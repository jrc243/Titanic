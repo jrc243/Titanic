{
 "cells": [
  {
   "cell_type": "code",
   "execution_count": 1,
   "metadata": {},
   "outputs": [],
   "source": [
    "#  Predict Titanic Survival\n",
    "#The RMS Titanic set sail on its maiden voyage in 1912, crossing the Atlantic from Southampton, England to New York City. The ship never completed the voyage, sinking to the bottom of the Atlantic Ocean after hitting an iceberg, bringing down 1,502 of 2,224 passengers onboard.\n",
    "#In this project you will create a Logistic Regression model that predicts which passengers survived the sinking of the Titanic, based on features like age and class.\n",
    "#The data we will be using for training our model is provided by Kaggle. Feel free to make the model better on your own and submit it to the Kaggle Titanic competition!\n",
    "#If you get stuck during this project or would like to see an experienced developer copmplete it, check out the project walkthrough video which can be found in the “get help” menu in the bottom-right of this window."
   ]
  },
  {
   "cell_type": "code",
   "execution_count": 2,
   "metadata": {},
   "outputs": [],
   "source": [
    "import seaborn\n",
    "import pandas as pd\n",
    "import numpy as np\n",
    "%matplotlib inline\n",
    "import seaborn as sns\n",
    "import matplotlib.pyplot as plt\n",
    "from sklearn.linear_model import LogisticRegression\n",
    "from sklearn.model_selection import train_test_split\n",
    "from sklearn.preprocessing import StandardScaler\n",
    "import warnings\n",
    "warnings.filterwarnings('ignore')\n",
    "from termcolor import colored"
   ]
  },
  {
   "cell_type": "code",
   "execution_count": 3,
   "metadata": {},
   "outputs": [],
   "source": [
    "##print(colored('Hello', 'red', attrs=['bold']))"
   ]
  },
  {
   "cell_type": "code",
   "execution_count": 4,
   "metadata": {},
   "outputs": [],
   "source": [
    "#1. The file passengers.csv contains the data of 892 passengers onboard the Titanic when it sank that fateful day.\n",
    "#Let’s begin by loading the data into a pandas DataFrame named passengers. \n",
    "#Print passengers and inspect the columns. What features could we use to predict survival?"
   ]
  },
  {
   "cell_type": "code",
   "execution_count": 5,
   "metadata": {},
   "outputs": [
    {
     "name": "stdout",
     "output_type": "stream",
     "text": [
      "     PassengerId  Survived  Pclass  \\\n",
      "0              1         0       3   \n",
      "1              2         1       1   \n",
      "2              3         1       3   \n",
      "3              4         1       1   \n",
      "4              5         0       3   \n",
      "..           ...       ...     ...   \n",
      "886          887         0       2   \n",
      "887          888         1       1   \n",
      "888          889         0       3   \n",
      "889          890         1       1   \n",
      "890          891         0       3   \n",
      "\n",
      "                                                  Name     Sex   Age  SibSp  \\\n",
      "0                              Braund, Mr. Owen Harris    male  22.0      1   \n",
      "1    Cumings, Mrs. John Bradley (Florence Briggs Th...  female  38.0      1   \n",
      "2                               Heikkinen, Miss. Laina  female  26.0      0   \n",
      "3         Futrelle, Mrs. Jacques Heath (Lily May Peel)  female  35.0      1   \n",
      "4                             Allen, Mr. William Henry    male  35.0      0   \n",
      "..                                                 ...     ...   ...    ...   \n",
      "886                              Montvila, Rev. Juozas    male  27.0      0   \n",
      "887                       Graham, Miss. Margaret Edith  female  19.0      0   \n",
      "888           Johnston, Miss. Catherine Helen \"Carrie\"  female   NaN      1   \n",
      "889                              Behr, Mr. Karl Howell    male  26.0      0   \n",
      "890                                Dooley, Mr. Patrick    male  32.0      0   \n",
      "\n",
      "     Parch            Ticket     Fare Cabin Embarked  \n",
      "0        0         A/5 21171   7.2500   NaN        S  \n",
      "1        0          PC 17599  71.2833   C85        C  \n",
      "2        0  STON/O2. 3101282   7.9250   NaN        S  \n",
      "3        0            113803  53.1000  C123        S  \n",
      "4        0            373450   8.0500   NaN        S  \n",
      "..     ...               ...      ...   ...      ...  \n",
      "886      0            211536  13.0000   NaN        S  \n",
      "887      0            112053  30.0000   B42        S  \n",
      "888      2        W./C. 6607  23.4500   NaN        S  \n",
      "889      0            111369  30.0000  C148        C  \n",
      "890      0            370376   7.7500   NaN        Q  \n",
      "\n",
      "[891 rows x 12 columns]\n"
     ]
    }
   ],
   "source": [
    "train = pd.read_csv('train.csv', delimiter =',')\n",
    "print(train)"
   ]
  },
  {
   "cell_type": "code",
   "execution_count": 6,
   "metadata": {},
   "outputs": [],
   "source": [
    "test= pd.read_csv(\"test.csv\")\n",
    "#print(train.head())\n",
    "#print(test.head())"
   ]
  },
  {
   "cell_type": "code",
   "execution_count": 7,
   "metadata": {},
   "outputs": [
    {
     "data": {
      "text/html": [
       "<div>\n",
       "<style scoped>\n",
       "    .dataframe tbody tr th:only-of-type {\n",
       "        vertical-align: middle;\n",
       "    }\n",
       "\n",
       "    .dataframe tbody tr th {\n",
       "        vertical-align: top;\n",
       "    }\n",
       "\n",
       "    .dataframe thead th {\n",
       "        text-align: right;\n",
       "    }\n",
       "</style>\n",
       "<table border=\"1\" class=\"dataframe\">\n",
       "  <thead>\n",
       "    <tr style=\"text-align: right;\">\n",
       "      <th></th>\n",
       "      <th>PassengerId</th>\n",
       "      <th>Survived</th>\n",
       "      <th>Pclass</th>\n",
       "      <th>Age</th>\n",
       "      <th>SibSp</th>\n",
       "      <th>Parch</th>\n",
       "      <th>Fare</th>\n",
       "    </tr>\n",
       "  </thead>\n",
       "  <tbody>\n",
       "    <tr>\n",
       "      <th>count</th>\n",
       "      <td>891.000000</td>\n",
       "      <td>891.000000</td>\n",
       "      <td>891.000000</td>\n",
       "      <td>714.000000</td>\n",
       "      <td>891.000000</td>\n",
       "      <td>891.000000</td>\n",
       "      <td>891.000000</td>\n",
       "    </tr>\n",
       "    <tr>\n",
       "      <th>mean</th>\n",
       "      <td>446.000000</td>\n",
       "      <td>0.383838</td>\n",
       "      <td>2.308642</td>\n",
       "      <td>29.699118</td>\n",
       "      <td>0.523008</td>\n",
       "      <td>0.381594</td>\n",
       "      <td>32.204208</td>\n",
       "    </tr>\n",
       "    <tr>\n",
       "      <th>std</th>\n",
       "      <td>257.353842</td>\n",
       "      <td>0.486592</td>\n",
       "      <td>0.836071</td>\n",
       "      <td>14.526497</td>\n",
       "      <td>1.102743</td>\n",
       "      <td>0.806057</td>\n",
       "      <td>49.693429</td>\n",
       "    </tr>\n",
       "    <tr>\n",
       "      <th>min</th>\n",
       "      <td>1.000000</td>\n",
       "      <td>0.000000</td>\n",
       "      <td>1.000000</td>\n",
       "      <td>0.420000</td>\n",
       "      <td>0.000000</td>\n",
       "      <td>0.000000</td>\n",
       "      <td>0.000000</td>\n",
       "    </tr>\n",
       "    <tr>\n",
       "      <th>25%</th>\n",
       "      <td>223.500000</td>\n",
       "      <td>0.000000</td>\n",
       "      <td>2.000000</td>\n",
       "      <td>20.125000</td>\n",
       "      <td>0.000000</td>\n",
       "      <td>0.000000</td>\n",
       "      <td>7.910400</td>\n",
       "    </tr>\n",
       "    <tr>\n",
       "      <th>50%</th>\n",
       "      <td>446.000000</td>\n",
       "      <td>0.000000</td>\n",
       "      <td>3.000000</td>\n",
       "      <td>28.000000</td>\n",
       "      <td>0.000000</td>\n",
       "      <td>0.000000</td>\n",
       "      <td>14.454200</td>\n",
       "    </tr>\n",
       "    <tr>\n",
       "      <th>75%</th>\n",
       "      <td>668.500000</td>\n",
       "      <td>1.000000</td>\n",
       "      <td>3.000000</td>\n",
       "      <td>38.000000</td>\n",
       "      <td>1.000000</td>\n",
       "      <td>0.000000</td>\n",
       "      <td>31.000000</td>\n",
       "    </tr>\n",
       "    <tr>\n",
       "      <th>max</th>\n",
       "      <td>891.000000</td>\n",
       "      <td>1.000000</td>\n",
       "      <td>3.000000</td>\n",
       "      <td>80.000000</td>\n",
       "      <td>8.000000</td>\n",
       "      <td>6.000000</td>\n",
       "      <td>512.329200</td>\n",
       "    </tr>\n",
       "  </tbody>\n",
       "</table>\n",
       "</div>"
      ],
      "text/plain": [
       "       PassengerId    Survived      Pclass         Age       SibSp  \\\n",
       "count   891.000000  891.000000  891.000000  714.000000  891.000000   \n",
       "mean    446.000000    0.383838    2.308642   29.699118    0.523008   \n",
       "std     257.353842    0.486592    0.836071   14.526497    1.102743   \n",
       "min       1.000000    0.000000    1.000000    0.420000    0.000000   \n",
       "25%     223.500000    0.000000    2.000000   20.125000    0.000000   \n",
       "50%     446.000000    0.000000    3.000000   28.000000    0.000000   \n",
       "75%     668.500000    1.000000    3.000000   38.000000    1.000000   \n",
       "max     891.000000    1.000000    3.000000   80.000000    8.000000   \n",
       "\n",
       "            Parch        Fare  \n",
       "count  891.000000  891.000000  \n",
       "mean     0.381594   32.204208  \n",
       "std      0.806057   49.693429  \n",
       "min      0.000000    0.000000  \n",
       "25%      0.000000    7.910400  \n",
       "50%      0.000000   14.454200  \n",
       "75%      0.000000   31.000000  \n",
       "max      6.000000  512.329200  "
      ]
     },
     "execution_count": 7,
     "metadata": {},
     "output_type": "execute_result"
    }
   ],
   "source": [
    "train.describe()"
   ]
  },
  {
   "cell_type": "code",
   "execution_count": 8,
   "metadata": {},
   "outputs": [],
   "source": [
    "passengers=pd.read_csv('passengers.csv')\n",
    "outcomes=passengers['Survived']\n",
    "data =passengers.drop('Survived', axis = 1)\n"
   ]
  },
  {
   "cell_type": "code",
   "execution_count": 9,
   "metadata": {},
   "outputs": [],
   "source": [
    "#2. Given the saying, “women and children first,” Sex and Age seem like good features to predict survival. \n",
    "#Let’s map the text values in the Sex column to a numerical value. \n",
    "#Update Sex such that all values female are replaced with 1 and all values male are replaced with 0. Turn column into integers."
   ]
  },
  {
   "cell_type": "code",
   "execution_count": 10,
   "metadata": {},
   "outputs": [],
   "source": [
    "train['Passenger Sex']=train['Sex']"
   ]
  },
  {
   "cell_type": "code",
   "execution_count": 11,
   "metadata": {},
   "outputs": [
    {
     "name": "stdout",
     "output_type": "stream",
     "text": [
      "     PassengerId  Survived  Pclass  \\\n",
      "0              1         0       3   \n",
      "1              2         1       1   \n",
      "2              3         1       3   \n",
      "3              4         1       1   \n",
      "4              5         0       3   \n",
      "..           ...       ...     ...   \n",
      "886          887         0       2   \n",
      "887          888         1       1   \n",
      "888          889         0       3   \n",
      "889          890         1       1   \n",
      "890          891         0       3   \n",
      "\n",
      "                                                  Name  Sex   Age  SibSp  \\\n",
      "0                              Braund, Mr. Owen Harris    0  22.0      1   \n",
      "1    Cumings, Mrs. John Bradley (Florence Briggs Th...    1  38.0      1   \n",
      "2                               Heikkinen, Miss. Laina    1  26.0      0   \n",
      "3         Futrelle, Mrs. Jacques Heath (Lily May Peel)    1  35.0      1   \n",
      "4                             Allen, Mr. William Henry    0  35.0      0   \n",
      "..                                                 ...  ...   ...    ...   \n",
      "886                              Montvila, Rev. Juozas    0  27.0      0   \n",
      "887                       Graham, Miss. Margaret Edith    1  19.0      0   \n",
      "888           Johnston, Miss. Catherine Helen \"Carrie\"    1   NaN      1   \n",
      "889                              Behr, Mr. Karl Howell    0  26.0      0   \n",
      "890                                Dooley, Mr. Patrick    0  32.0      0   \n",
      "\n",
      "     Parch            Ticket     Fare Cabin Embarked Passenger Sex  \n",
      "0        0         A/5 21171   7.2500   NaN        S          male  \n",
      "1        0          PC 17599  71.2833   C85        C        female  \n",
      "2        0  STON/O2. 3101282   7.9250   NaN        S        female  \n",
      "3        0            113803  53.1000  C123        S        female  \n",
      "4        0            373450   8.0500   NaN        S          male  \n",
      "..     ...               ...      ...   ...      ...           ...  \n",
      "886      0            211536  13.0000   NaN        S          male  \n",
      "887      0            112053  30.0000   B42        S        female  \n",
      "888      2        W./C. 6607  23.4500   NaN        S        female  \n",
      "889      0            111369  30.0000  C148        C          male  \n",
      "890      0            370376   7.7500   NaN        Q          male  \n",
      "\n",
      "[891 rows x 13 columns]\n"
     ]
    }
   ],
   "source": [
    "train['Sex']=train['Sex'].map({'male':0, 'female': 1})\n",
    "print(train)"
   ]
  },
  {
   "cell_type": "code",
   "execution_count": 12,
   "metadata": {},
   "outputs": [],
   "source": [
    "train['Passenger Class']=train['Pclass'].map({1:'first', 2:'second', 3:'third'})"
   ]
  },
  {
   "cell_type": "code",
   "execution_count": 13,
   "metadata": {},
   "outputs": [],
   "source": [
    "#3. Let’s take a look at Age. Print passengers['Age'].values. \n",
    "#You can see we have multiple missing values, or nans. Fill all the empty Age values in passengers with the mean age.\n",
    "# inplace will modify passengers.Age, so it does not create a new column.\n",
    "# # use the round function to round the mean value."
   ]
  },
  {
   "cell_type": "code",
   "execution_count": 14,
   "metadata": {},
   "outputs": [
    {
     "name": "stdout",
     "output_type": "stream",
     "text": [
      "     PassengerId  Survived  Pclass  \\\n",
      "0              1         0       3   \n",
      "1              2         1       1   \n",
      "2              3         1       3   \n",
      "3              4         1       1   \n",
      "4              5         0       3   \n",
      "..           ...       ...     ...   \n",
      "886          887         0       2   \n",
      "887          888         1       1   \n",
      "888          889         0       3   \n",
      "889          890         1       1   \n",
      "890          891         0       3   \n",
      "\n",
      "                                                  Name  Sex   Age  SibSp  \\\n",
      "0                              Braund, Mr. Owen Harris    0  22.0      1   \n",
      "1    Cumings, Mrs. John Bradley (Florence Briggs Th...    1  38.0      1   \n",
      "2                               Heikkinen, Miss. Laina    1  26.0      0   \n",
      "3         Futrelle, Mrs. Jacques Heath (Lily May Peel)    1  35.0      1   \n",
      "4                             Allen, Mr. William Henry    0  35.0      0   \n",
      "..                                                 ...  ...   ...    ...   \n",
      "886                              Montvila, Rev. Juozas    0  27.0      0   \n",
      "887                       Graham, Miss. Margaret Edith    1  19.0      0   \n",
      "888           Johnston, Miss. Catherine Helen \"Carrie\"    1  30.0      1   \n",
      "889                              Behr, Mr. Karl Howell    0  26.0      0   \n",
      "890                                Dooley, Mr. Patrick    0  32.0      0   \n",
      "\n",
      "     Parch            Ticket     Fare Cabin Embarked Passenger Sex  \\\n",
      "0        0         A/5 21171   7.2500   NaN        S          male   \n",
      "1        0          PC 17599  71.2833   C85        C        female   \n",
      "2        0  STON/O2. 3101282   7.9250   NaN        S        female   \n",
      "3        0            113803  53.1000  C123        S        female   \n",
      "4        0            373450   8.0500   NaN        S          male   \n",
      "..     ...               ...      ...   ...      ...           ...   \n",
      "886      0            211536  13.0000   NaN        S          male   \n",
      "887      0            112053  30.0000   B42        S        female   \n",
      "888      2        W./C. 6607  23.4500   NaN        S        female   \n",
      "889      0            111369  30.0000  C148        C          male   \n",
      "890      0            370376   7.7500   NaN        Q          male   \n",
      "\n",
      "    Passenger Class  \n",
      "0             third  \n",
      "1             first  \n",
      "2             third  \n",
      "3             first  \n",
      "4             third  \n",
      "..              ...  \n",
      "886          second  \n",
      "887           first  \n",
      "888           third  \n",
      "889           first  \n",
      "890           third  \n",
      "\n",
      "[891 rows x 14 columns]\n"
     ]
    }
   ],
   "source": [
    "train['Age'].fillna(inplace=True, value=round(train['Age'].mean()))\n",
    "print(train)"
   ]
  },
  {
   "cell_type": "code",
   "execution_count": 15,
   "metadata": {},
   "outputs": [],
   "source": [
    "#4 Given the strict class system onboard the Titanic, let’s utilize the Pclass column, or the passenger class, as another feature. \n",
    "#Create a new column named FirstClass that stores 1 for all passengers in first class and 0 for all other passengers.\n",
    "#Use apply(), which will apply a specific lambda function to every single value inside of PClass.\n",
    "#We can then use that to map each PClass value to a new value in the FirstClass column."
   ]
  },
  {
   "cell_type": "code",
   "execution_count": 16,
   "metadata": {},
   "outputs": [
    {
     "name": "stdout",
     "output_type": "stream",
     "text": [
      "     PassengerId  Survived  Pclass  \\\n",
      "0              1         0       3   \n",
      "1              2         1       1   \n",
      "2              3         1       3   \n",
      "3              4         1       1   \n",
      "4              5         0       3   \n",
      "..           ...       ...     ...   \n",
      "886          887         0       2   \n",
      "887          888         1       1   \n",
      "888          889         0       3   \n",
      "889          890         1       1   \n",
      "890          891         0       3   \n",
      "\n",
      "                                                  Name  Sex   Age  SibSp  \\\n",
      "0                              Braund, Mr. Owen Harris    0  22.0      1   \n",
      "1    Cumings, Mrs. John Bradley (Florence Briggs Th...    1  38.0      1   \n",
      "2                               Heikkinen, Miss. Laina    1  26.0      0   \n",
      "3         Futrelle, Mrs. Jacques Heath (Lily May Peel)    1  35.0      1   \n",
      "4                             Allen, Mr. William Henry    0  35.0      0   \n",
      "..                                                 ...  ...   ...    ...   \n",
      "886                              Montvila, Rev. Juozas    0  27.0      0   \n",
      "887                       Graham, Miss. Margaret Edith    1  19.0      0   \n",
      "888           Johnston, Miss. Catherine Helen \"Carrie\"    1  30.0      1   \n",
      "889                              Behr, Mr. Karl Howell    0  26.0      0   \n",
      "890                                Dooley, Mr. Patrick    0  32.0      0   \n",
      "\n",
      "     Parch            Ticket     Fare Cabin Embarked Passenger Sex  \\\n",
      "0        0         A/5 21171   7.2500   NaN        S          male   \n",
      "1        0          PC 17599  71.2833   C85        C        female   \n",
      "2        0  STON/O2. 3101282   7.9250   NaN        S        female   \n",
      "3        0            113803  53.1000  C123        S        female   \n",
      "4        0            373450   8.0500   NaN        S          male   \n",
      "..     ...               ...      ...   ...      ...           ...   \n",
      "886      0            211536  13.0000   NaN        S          male   \n",
      "887      0            112053  30.0000   B42        S        female   \n",
      "888      2        W./C. 6607  23.4500   NaN        S        female   \n",
      "889      0            111369  30.0000  C148        C          male   \n",
      "890      0            370376   7.7500   NaN        Q          male   \n",
      "\n",
      "    Passenger Class  FirstClass  \n",
      "0             third           0  \n",
      "1             first           1  \n",
      "2             third           0  \n",
      "3             first           1  \n",
      "4             third           0  \n",
      "..              ...         ...  \n",
      "886          second           0  \n",
      "887           first           1  \n",
      "888           third           0  \n",
      "889           first           1  \n",
      "890           third           0  \n",
      "\n",
      "[891 rows x 15 columns]\n"
     ]
    }
   ],
   "source": [
    "train['FirstClass']=train['Pclass'].apply(lambda p: 1 if p ==1 else 0)\n",
    "print(train) ##now only FirstClass passengers have a 1 in their column."
   ]
  },
  {
   "cell_type": "code",
   "execution_count": 17,
   "metadata": {},
   "outputs": [],
   "source": [
    "#5 Create a new column named SecondClass that stores 1 for all passengers in second class and 0 for all other passengers.\n",
    "#Print passengers and inspect the DataFrame to ensure all the updates have been made."
   ]
  },
  {
   "cell_type": "code",
   "execution_count": 18,
   "metadata": {},
   "outputs": [
    {
     "name": "stdout",
     "output_type": "stream",
     "text": [
      "     PassengerId  Survived  Pclass  \\\n",
      "0              1         0       3   \n",
      "1              2         1       1   \n",
      "2              3         1       3   \n",
      "3              4         1       1   \n",
      "4              5         0       3   \n",
      "..           ...       ...     ...   \n",
      "886          887         0       2   \n",
      "887          888         1       1   \n",
      "888          889         0       3   \n",
      "889          890         1       1   \n",
      "890          891         0       3   \n",
      "\n",
      "                                                  Name  Sex   Age  SibSp  \\\n",
      "0                              Braund, Mr. Owen Harris    0  22.0      1   \n",
      "1    Cumings, Mrs. John Bradley (Florence Briggs Th...    1  38.0      1   \n",
      "2                               Heikkinen, Miss. Laina    1  26.0      0   \n",
      "3         Futrelle, Mrs. Jacques Heath (Lily May Peel)    1  35.0      1   \n",
      "4                             Allen, Mr. William Henry    0  35.0      0   \n",
      "..                                                 ...  ...   ...    ...   \n",
      "886                              Montvila, Rev. Juozas    0  27.0      0   \n",
      "887                       Graham, Miss. Margaret Edith    1  19.0      0   \n",
      "888           Johnston, Miss. Catherine Helen \"Carrie\"    1  30.0      1   \n",
      "889                              Behr, Mr. Karl Howell    0  26.0      0   \n",
      "890                                Dooley, Mr. Patrick    0  32.0      0   \n",
      "\n",
      "     Parch            Ticket     Fare Cabin Embarked Passenger Sex  \\\n",
      "0        0         A/5 21171   7.2500   NaN        S          male   \n",
      "1        0          PC 17599  71.2833   C85        C        female   \n",
      "2        0  STON/O2. 3101282   7.9250   NaN        S        female   \n",
      "3        0            113803  53.1000  C123        S        female   \n",
      "4        0            373450   8.0500   NaN        S          male   \n",
      "..     ...               ...      ...   ...      ...           ...   \n",
      "886      0            211536  13.0000   NaN        S          male   \n",
      "887      0            112053  30.0000   B42        S        female   \n",
      "888      2        W./C. 6607  23.4500   NaN        S        female   \n",
      "889      0            111369  30.0000  C148        C          male   \n",
      "890      0            370376   7.7500   NaN        Q          male   \n",
      "\n",
      "    Passenger Class  FirstClass  SecondClass  \n",
      "0             third           0            0  \n",
      "1             first           1            0  \n",
      "2             third           0            0  \n",
      "3             first           1            0  \n",
      "4             third           0            0  \n",
      "..              ...         ...          ...  \n",
      "886          second           0            1  \n",
      "887           first           1            0  \n",
      "888           third           0            0  \n",
      "889           first           1            0  \n",
      "890           third           0            0  \n",
      "\n",
      "[891 rows x 16 columns]\n"
     ]
    }
   ],
   "source": [
    "train['SecondClass']=train['Pclass'].apply(lambda p: 1 if p ==2 else 0)\n",
    "print(train)"
   ]
  },
  {
   "cell_type": "code",
   "execution_count": 19,
   "metadata": {},
   "outputs": [],
   "source": [
    "#6 Now that we have cleaned our data, let’s select the columns we want to build our model on. \n",
    "# Select columns Sex, Age, FirstClass, and SecondClass and store them in a variable named features. Select column Survived and store it a variable named survival.\n",
    "##Create an array"
   ]
  },
  {
   "cell_type": "code",
   "execution_count": 20,
   "metadata": {},
   "outputs": [],
   "source": [
    "features=train[['Sex', 'Age', 'FirstClass', 'SecondClass']]\n",
    "survived=train['Survived']"
   ]
  },
  {
   "cell_type": "code",
   "execution_count": 21,
   "metadata": {},
   "outputs": [],
   "source": [
    "#7 Split the data into training and test sets using sklearn‘s train_test_split() method. \n",
    "# We’ll use the training set to train the model and the test set to evaluate the model."
   ]
  },
  {
   "cell_type": "code",
   "execution_count": 22,
   "metadata": {},
   "outputs": [],
   "source": [
    "train_features, test_features, train_labels, test_labels = train_test_split(features, survived)"
   ]
  },
  {
   "cell_type": "code",
   "execution_count": 23,
   "metadata": {},
   "outputs": [],
   "source": [
    "##Normalize the Data\n",
    "#8 Since sklearn‘s Logistic Regression implementation uses Regularization, we need to scale our feature data. \n",
    "# Create a StandardScaler object, .fit_transform() it on the training features, and .transform() the test features."
   ]
  },
  {
   "cell_type": "code",
   "execution_count": 24,
   "metadata": {},
   "outputs": [],
   "source": [
    "scaler=StandardScaler()\n",
    "train_features = scaler.fit_transform(train_features)\n",
    "\n",
    "test_features = scaler.transform(test_features)"
   ]
  },
  {
   "cell_type": "code",
   "execution_count": 25,
   "metadata": {},
   "outputs": [],
   "source": [
    "#9 Create a LogisticRegression model with sklearn and .fit() it on the training data.\n",
    "# Fitting the model will perform gradient descent to find the feature coefficients that minimize the log-loss for the training data."
   ]
  },
  {
   "cell_type": "code",
   "execution_count": 26,
   "metadata": {},
   "outputs": [
    {
     "data": {
      "text/plain": [
       "LogisticRegression()"
      ]
     },
     "execution_count": 26,
     "metadata": {},
     "output_type": "execute_result"
    }
   ],
   "source": [
    "model = LogisticRegression()\n",
    "model.fit(train_features, train_labels)\n",
    "##this will train our model to recognize which type of passengers survived and which\n",
    "#-type of passengers didn't survive based on the features (Sex, Age, FirstClass, SecondClass)"
   ]
  },
  {
   "cell_type": "code",
   "execution_count": 27,
   "metadata": {},
   "outputs": [],
   "source": [
    "#10 .score() the model on the training data and print the training score.\n",
    "# Scoring the model on the training data will run the data through the model and make final classifications on survival for each passenger in the training set. \n",
    "# The score returned is the percentage of correct classifications, or the accuracy."
   ]
  },
  {
   "cell_type": "code",
   "execution_count": 28,
   "metadata": {},
   "outputs": [
    {
     "name": "stdout",
     "output_type": "stream",
     "text": [
      "0.7889221556886228\n"
     ]
    }
   ],
   "source": [
    "print(model.score(train_features, train_labels))  ##result: about an 80% accuracy rate"
   ]
  },
  {
   "cell_type": "code",
   "execution_count": 29,
   "metadata": {},
   "outputs": [],
   "source": [
    "#11 .score() the model on the test data and print the test score.\n",
    "#Smilarly, scoring the model on the testing data will run the data through the model and make final classifications on survival for each passenger in the test set.\n",
    "# how well did your model perform?"
   ]
  },
  {
   "cell_type": "code",
   "execution_count": 30,
   "metadata": {},
   "outputs": [
    {
     "name": "stdout",
     "output_type": "stream",
     "text": [
      "0.7713004484304933\n"
     ]
    }
   ],
   "source": [
    "print(model.score(test_features, test_labels))  #result is almost the same as the train score"
   ]
  },
  {
   "cell_type": "code",
   "execution_count": 31,
   "metadata": {},
   "outputs": [],
   "source": [
    "#12 Print the feature coefficients determined by the model. \n",
    "# Which feature is most important in predicting survival on the sinking of the Titanic?\n",
    "\n",
    "##Feature coefficients =Sex, Age, FirstClass, SecondClass. How significant were each of these feature coefficients in determining if someone survived."
   ]
  },
  {
   "cell_type": "code",
   "execution_count": 32,
   "metadata": {},
   "outputs": [
    {
     "name": "stdout",
     "output_type": "stream",
     "text": [
      "0.7713004484304933\n",
      "[[ 1.23972854 -0.38303179  1.01474003  0.47993444]]\n"
     ]
    }
   ],
   "source": [
    "print(model.score(test_features, test_labels))\n",
    "print(model.coef_)  #the printed array results are in this order: Sex, Age, FirstClass, SecondClass. "
   ]
  },
  {
   "cell_type": "code",
   "execution_count": 33,
   "metadata": {},
   "outputs": [],
   "source": [
    "#13.Let’s use our model to make predictions on the survival of a few fateful passengers. Provided in the code editor is information for 3rd class passenger Jack and 1st class passenger Rose, stored in NumPy arrays. The arrays store 4 feature values, in the following order:\n",
    "#Sex, represented by a 0 for male and 1 for female\n",
    "#Age, represented as an integer in years\n",
    "#FirstClass, with a 1 indicating the passenger is in first class\n",
    "#SecondClass, with a 1 indicating the passenger is in second class\n",
    "#A third array, You, is also provided in the code editor with empty feature values. Uncomment the line containing You and update the array with your information, or the information for some fictitious passenger. Make sure to enter all values as floats with a .!"
   ]
  },
  {
   "cell_type": "code",
   "execution_count": 34,
   "metadata": {},
   "outputs": [],
   "source": [
    "Jack= np.array([0.0,20.0,0.0,0.0])\n",
    "Rose= np.array([1.0,17.0,1.0,0.0])\n",
    "You= np.array([0.0,47.0,0.0,1.0])"
   ]
  },
  {
   "cell_type": "code",
   "execution_count": 35,
   "metadata": {},
   "outputs": [],
   "source": [
    "#14 Combine Jack, Rose, and You into a single NumPy array named sample_passengers"
   ]
  },
  {
   "cell_type": "code",
   "execution_count": 36,
   "metadata": {},
   "outputs": [],
   "source": [
    "sample_passengers=np.array([Jack, Rose, You])"
   ]
  },
  {
   "cell_type": "code",
   "execution_count": 37,
   "metadata": {},
   "outputs": [],
   "source": [
    "#15 Since our Logistic Regression model was trained on scaled feature data, we must also scale the feature data we are making predictions on. \n",
    "#Using the StandardScaler object created earlier, apply its .transform() method to sample_passengers and save the result to sample_passengers.\n",
    "# Print sample_passengers to view the scaled features."
   ]
  },
  {
   "cell_type": "code",
   "execution_count": 38,
   "metadata": {},
   "outputs": [],
   "source": [
    "sample_passengers=scaler.transform(sample_passengers) ##normalize"
   ]
  },
  {
   "cell_type": "code",
   "execution_count": 39,
   "metadata": {},
   "outputs": [],
   "source": [
    "#16 Who will survive, and who will sink? Use your model’s .predict() method on sample_passengers and print the result to find out.\n",
    "# Want to see the probabilities that led to these predictions? Call your model’s .predict_proba() method on sample_passengers and print the result. \n",
    "#The 1st column is the probability of a passenger perishing on the Titanic, and the 2nd column is the probability of a passenger surviving the sinking (which was calculated by our model to make the final classification decision)."
   ]
  },
  {
   "cell_type": "code",
   "execution_count": 40,
   "metadata": {},
   "outputs": [
    {
     "name": "stdout",
     "output_type": "stream",
     "text": [
      "[0 1 0]\n",
      "[[0.88362455 0.11637545]\n",
      " [0.04701176 0.95298824]\n",
      " [0.84098849 0.15901151]]\n"
     ]
    }
   ],
   "source": [
    "print(model.predict(sample_passengers))\n",
    "\n",
    "print(model.predict_proba(sample_passengers))"
   ]
  },
  {
   "cell_type": "code",
   "execution_count": 41,
   "metadata": {},
   "outputs": [],
   "source": [
    "# predict_proba Results: \n",
    "# [[0.88903321 0.11096679] Jack had an 88% chance of dying and an 11% chance of surviving\n",
    "# [0.05447605 0.94552395]  Rose had a 5% chance of dying and a 94% chance of surviving\n",
    "# [0.14235909 0.85764091]] I had a 14% chance of dying and a 85% of dying"
   ]
  },
  {
   "cell_type": "code",
   "execution_count": 42,
   "metadata": {},
   "outputs": [
    {
     "name": "stdout",
     "output_type": "stream",
     "text": [
      "\u001b[1m\u001b[34m       (percentages are rounded to the nearest whole number)    \u001b[0m\n",
      "   \n",
      "               19.0 % of male passengers survived.\n",
      "               74.0 % of female passengers survived.\n",
      "  \n"
     ]
    },
    {
     "data": {
      "image/png": "[encoded data removed]",
      "text/plain": [
       "<Figure size 576x432 with 1 Axes>"
      ]
     },
     "metadata": {
      "needs_background": "light"
     },
     "output_type": "display_data"
    }
   ],
   "source": [
    "f, ax = plt.subplots(figsize=(8, 6))\n",
    "sns.barplot(x=\"Passenger Sex\", y=\"Survived\", data=train)\n",
    "plt.title(\"Titanic passenger survival by sex\")\n",
    "\n",
    "print(colored('       (percentages are rounded to the nearest whole number)    ', 'blue', attrs=['bold']))\n",
    "#print(\"        (percentages are rounded to the nearest whole number)    \")\n",
    "print(\"   \")\n",
    "\n",
    "male_passengers= train[\"Survived\"][train[\"Sex\"]== 0].value_counts(normalize =True)[1]*100\n",
    "print(\"              \",male_passengers.round(decimals=0),\"% of male passengers survived.\")\n",
    "\n",
    "\n",
    "female_passengers = train[\"Survived\"][train[\"Sex\"]== 1].value_counts(normalize =True)[1]*100\n",
    "print(\"              \",female_passengers.round(decimals=0),\"% of female passengers survived.\")\n",
    "print(\"  \")\n",
    "##################"
   ]
  },
  {
   "cell_type": "code",
   "execution_count": 43,
   "metadata": {},
   "outputs": [
    {
     "name": "stdout",
     "output_type": "stream",
     "text": [
      "\u001b[1m\u001b[34m         (percentages are rounded to the nearest whole number)    \u001b[0m\n",
      "  \n",
      "                63.0 % of first class passengers survived.\n",
      "                47.0 % of second class passengers survived.\n",
      "                24.0 % of third class passengers survived.\n",
      "  \n"
     ]
    },
    {
     "data": {
      "image/png": "[encoded data removed]",
      "text/plain": [
       "<Figure size 576x432 with 1 Axes>"
      ]
     },
     "metadata": {
      "needs_background": "light"
     },
     "output_type": "display_data"
    }
   ],
   "source": [
    "f, ax = plt.subplots(figsize=(8, 6))\n",
    "ax = sns.barplot(x=\"Passenger Class\", y=\"Survived\", data=train)\n",
    "plt.title(\"Titanic survivor rates by passenger class\")\n",
    "\n",
    "\n",
    "print(colored('         (percentages are rounded to the nearest whole number)    ', 'blue', attrs=['bold']))\n",
    "print(\"  \")\n",
    "\n",
    "\n",
    "first_class= train[\"Survived\"][train[\"Pclass\"]== 1].value_counts(normalize =True)[1]*100\n",
    "print(\"               \",first_class.round(decimals=0),\"% of first class passengers survived.\")\n",
    "\n",
    "second_class=train[\"Survived\"][train[\"Pclass\"]== 2].value_counts(normalize =True)[1]*100\n",
    "print(\"               \",second_class.round(decimals=0),\"% of second class passengers survived.\")\n",
    "\n",
    "third_class=train[\"Survived\"][train[\"Pclass\"]== 3].value_counts(normalize =True)[1]*100\n",
    "print(\"               \",third_class.round(decimals=0),\"% of third class passengers survived.\")\n",
    "\n",
    "print(\"  \")\n",
    "\n"
   ]
  },
  {
   "cell_type": "markdown",
   "metadata": {},
   "source": [
    "f, ax = plt.subplots(figsize=(8, 6))\n",
    "ax =sns.barplot(x=\"SibSp\", y=\"Survived\", data=train)\n",
    "#print(\"The percentage of passengers with parents/children aboard (SibSp) is \"\")\n",
    "print(train[\"Survived\"][train[\"SibSp\"] ==1].value_counts(normalize = True)[1]*100,\"% of people with one parent and/or child aboard survived.\")\n",
    "print(train[\"Survived\"][train[\"SibSp\"] ==2].value_counts(normalize = True) [1]*100,\"% of people with two parents and/or children aboard survived.\")\n",
    "print(train[\"Survived\"][train[\"SibSp\"] ==0].value_counts(normalize = True)[1]*100,\"% of people with no parents and/or children aboard survived.\")\n",
    "print(train[\"Survived\"][train[\"SibSp\"] ==3].value_counts(normalize = True)[1]*100,\"% of people with three parents and/or children aboard survived.\")\n",
    "#print(train[\"Survived\"][train[\"SibSp\"] ==4].value_counts(normalize = True)[1]*100,\"% of people with four parents and/or children aboard survived.\")\n",
    "\n",
    "\n"
   ]
  },
  {
   "cell_type": "code",
   "execution_count": 44,
   "metadata": {},
   "outputs": [
    {
     "name": "stdout",
     "output_type": "stream",
     "text": [
      "\u001b[1m\u001b[34m         (percentages are rounded to the nearest whole number)    \u001b[0m\n",
      " \n",
      "54.0 % of passengers with one parent and/or child aboard survived.\n",
      "46.0 % of passengers with two parents and/or children aboard survived.\n",
      "35.0 % of passengers with no parents and/or children aboard survived.\n",
      "25.0 % of passengers with three parents and/or children aboard survived.\n",
      "17.0 % of passengers with four parents and/or children survived.\n",
      "  \n"
     ]
    },
    {
     "data": {
      "image/png": "[encoded data removed]",
      "text/plain": [
       "<Figure size 576x432 with 1 Axes>"
      ]
     },
     "metadata": {
      "needs_background": "light"
     },
     "output_type": "display_data"
    }
   ],
   "source": [
    "f, ax = plt.subplots(figsize=(8, 6))\n",
    "ax =sns.barplot(x=\"SibSp\", y=\"Survived\", data=train)\n",
    "plt.title(\"Titanic survivors by number of family members (SibSp)\")\n",
    "\n",
    "\n",
    "print(colored('         (percentages are rounded to the nearest whole number)    ', 'blue', attrs=['bold']))\n",
    "print(\" \")\n",
    "survived_one=train[\"Survived\"][train[\"SibSp\"] ==1].value_counts(normalize = True)[1]*100\n",
    "print(survived_one.round(decimals=0),\"% of passengers with one parent and/or child aboard survived.\")\n",
    "\n",
    "\n",
    "survived_two=train[\"Survived\"][train[\"SibSp\"] ==2].value_counts(normalize = True) [1]*100\n",
    "print(survived_two.round(decimals=0),\"% of passengers with two parents and/or children aboard survived.\")\n",
    "\n",
    "survived_zero=train[\"Survived\"][train[\"SibSp\"] ==0].value_counts(normalize = True)[1]*100\n",
    "print(survived_zero.round(decimals=0),\"% of passengers with no parents and/or children aboard survived.\")\n",
    "\n",
    "survived_three=train[\"Survived\"][train[\"SibSp\"] ==3].value_counts(normalize = True)[1]*100\n",
    "print(survived_three.round(decimals=0),\"% of passengers with three parents and/or children aboard survived.\")\n",
    "\n",
    "survived_four=train[\"Survived\"][train[\"SibSp\"] ==4].value_counts(normalize = True)[1]*100\n",
    "print(survived_four.round(decimals=0),\"% of passengers with four parents and/or children survived.\")\n",
    "\n",
    "print(\"  \")\n",
    "\n"
   ]
  },
  {
   "cell_type": "markdown",
   "metadata": {},
   "source": [
    "from sklearn.model_selection import train_test_split"
   ]
  },
  {
   "cell_type": "code",
   "execution_count": 45,
   "metadata": {},
   "outputs": [],
   "source": [
    "predictors = train.drop(['Survived', 'PassengerId'], axis =1)\n",
    "target = train[\"Survived\"]\n",
    "x=train\n",
    "y=train\n",
    "x_train,x_test,y_train,y_test=train_test_split(x,y,test_size=0.25,random_state=0)\n",
    "\n"
   ]
  },
  {
   "cell_type": "markdown",
   "metadata": {},
   "source": [
    "logreg = LogisticRegression()\n",
    "logreg.fit(x_train, y_train)\n",
    "y_pred=logreg.predict(x_test)\n",
    "acc_logreg = round(accuracy_score(y_pred, y_values) *100, 2)\n",
    "print(acc_logreg)"
   ]
  },
  {
   "cell_type": "code",
   "execution_count": 46,
   "metadata": {},
   "outputs": [],
   "source": [
    "from sklearn.svm import SVC"
   ]
  },
  {
   "cell_type": "markdown",
   "metadata": {},
   "source": [
    "svc= SVC()\n",
    "svc.fit(x_train, y_train)\n",
    "y_Pred = svc.predict(x_values) \n",
    "acc_svc = round(accuracy_score(y_pred, y_values) + 100, 2)\n",
    "print(acc_svc)"
   ]
  },
  {
   "cell_type": "code",
   "execution_count": 47,
   "metadata": {},
   "outputs": [
    {
     "data": {
      "text/html": [
       "<div>\n",
       "<style scoped>\n",
       "    .dataframe tbody tr th:only-of-type {\n",
       "        vertical-align: middle;\n",
       "    }\n",
       "\n",
       "    .dataframe tbody tr th {\n",
       "        vertical-align: top;\n",
       "    }\n",
       "\n",
       "    .dataframe thead th {\n",
       "        text-align: right;\n",
       "    }\n",
       "</style>\n",
       "<table border=\"1\" class=\"dataframe\">\n",
       "  <thead>\n",
       "    <tr style=\"text-align: right;\">\n",
       "      <th></th>\n",
       "      <th></th>\n",
       "      <th>PassengerId</th>\n",
       "      <th>Survived</th>\n",
       "      <th>Pclass</th>\n",
       "      <th>Sex</th>\n",
       "      <th>Age</th>\n",
       "      <th>SibSp</th>\n",
       "      <th>Parch</th>\n",
       "      <th>Fare</th>\n",
       "      <th>FirstClass</th>\n",
       "      <th>SecondClass</th>\n",
       "    </tr>\n",
       "    <tr>\n",
       "      <th>Passenger Class</th>\n",
       "      <th>Passenger Sex</th>\n",
       "      <th></th>\n",
       "      <th></th>\n",
       "      <th></th>\n",
       "      <th></th>\n",
       "      <th></th>\n",
       "      <th></th>\n",
       "      <th></th>\n",
       "      <th></th>\n",
       "      <th></th>\n",
       "      <th></th>\n",
       "    </tr>\n",
       "  </thead>\n",
       "  <tbody>\n",
       "    <tr>\n",
       "      <th rowspan=\"2\" valign=\"top\">first</th>\n",
       "      <th>female</th>\n",
       "      <td>469.212766</td>\n",
       "      <td>0.968085</td>\n",
       "      <td>1.0</td>\n",
       "      <td>1.0</td>\n",
       "      <td>34.170213</td>\n",
       "      <td>0.553191</td>\n",
       "      <td>0.457447</td>\n",
       "      <td>106.125798</td>\n",
       "      <td>1.0</td>\n",
       "      <td>0.0</td>\n",
       "    </tr>\n",
       "    <tr>\n",
       "      <th>male</th>\n",
       "      <td>455.729508</td>\n",
       "      <td>0.368852</td>\n",
       "      <td>1.0</td>\n",
       "      <td>0.0</td>\n",
       "      <td>39.339508</td>\n",
       "      <td>0.311475</td>\n",
       "      <td>0.278689</td>\n",
       "      <td>67.226127</td>\n",
       "      <td>1.0</td>\n",
       "      <td>0.0</td>\n",
       "    </tr>\n",
       "    <tr>\n",
       "      <th rowspan=\"2\" valign=\"top\">second</th>\n",
       "      <th>female</th>\n",
       "      <td>443.105263</td>\n",
       "      <td>0.921053</td>\n",
       "      <td>2.0</td>\n",
       "      <td>1.0</td>\n",
       "      <td>28.756579</td>\n",
       "      <td>0.486842</td>\n",
       "      <td>0.605263</td>\n",
       "      <td>21.970121</td>\n",
       "      <td>0.0</td>\n",
       "      <td>1.0</td>\n",
       "    </tr>\n",
       "    <tr>\n",
       "      <th>male</th>\n",
       "      <td>447.962963</td>\n",
       "      <td>0.157407</td>\n",
       "      <td>2.0</td>\n",
       "      <td>0.0</td>\n",
       "      <td>30.678981</td>\n",
       "      <td>0.342593</td>\n",
       "      <td>0.222222</td>\n",
       "      <td>19.741782</td>\n",
       "      <td>0.0</td>\n",
       "      <td>1.0</td>\n",
       "    </tr>\n",
       "    <tr>\n",
       "      <th rowspan=\"2\" valign=\"top\">third</th>\n",
       "      <th>female</th>\n",
       "      <td>399.729167</td>\n",
       "      <td>0.500000</td>\n",
       "      <td>3.0</td>\n",
       "      <td>1.0</td>\n",
       "      <td>24.156250</td>\n",
       "      <td>0.895833</td>\n",
       "      <td>0.798611</td>\n",
       "      <td>16.118810</td>\n",
       "      <td>0.0</td>\n",
       "      <td>0.0</td>\n",
       "    </tr>\n",
       "    <tr>\n",
       "      <th>male</th>\n",
       "      <td>455.515850</td>\n",
       "      <td>0.135447</td>\n",
       "      <td>3.0</td>\n",
       "      <td>0.0</td>\n",
       "      <td>27.453660</td>\n",
       "      <td>0.498559</td>\n",
       "      <td>0.224784</td>\n",
       "      <td>12.661633</td>\n",
       "      <td>0.0</td>\n",
       "      <td>0.0</td>\n",
       "    </tr>\n",
       "  </tbody>\n",
       "</table>\n",
       "</div>"
      ],
      "text/plain": [
       "                               PassengerId  Survived  Pclass  Sex        Age  \\\n",
       "Passenger Class Passenger Sex                                                  \n",
       "first           female          469.212766  0.968085     1.0  1.0  34.170213   \n",
       "                male            455.729508  0.368852     1.0  0.0  39.339508   \n",
       "second          female          443.105263  0.921053     2.0  1.0  28.756579   \n",
       "                male            447.962963  0.157407     2.0  0.0  30.678981   \n",
       "third           female          399.729167  0.500000     3.0  1.0  24.156250   \n",
       "                male            455.515850  0.135447     3.0  0.0  27.453660   \n",
       "\n",
       "                                  SibSp     Parch        Fare  FirstClass  \\\n",
       "Passenger Class Passenger Sex                                               \n",
       "first           female         0.553191  0.457447  106.125798         1.0   \n",
       "                male           0.311475  0.278689   67.226127         1.0   \n",
       "second          female         0.486842  0.605263   21.970121         0.0   \n",
       "                male           0.342593  0.222222   19.741782         0.0   \n",
       "third           female         0.895833  0.798611   16.118810         0.0   \n",
       "                male           0.498559  0.224784   12.661633         0.0   \n",
       "\n",
       "                               SecondClass  \n",
       "Passenger Class Passenger Sex               \n",
       "first           female                 0.0  \n",
       "                male                   0.0  \n",
       "second          female                 1.0  \n",
       "                male                   1.0  \n",
       "third           female                 0.0  \n",
       "                male                   0.0  "
      ]
     },
     "execution_count": 47,
     "metadata": {},
     "output_type": "execute_result"
    }
   ],
   "source": [
    "class_sex_grouping = train.groupby(['Passenger Class','Passenger Sex']).mean()\n",
    "class_sex_grouping"
   ]
  },
  {
   "cell_type": "code",
   "execution_count": 48,
   "metadata": {},
   "outputs": [
    {
     "data": {
      "text/plain": [
       "Text(0.5, 1.0, 'Titanic survivors by passenger class & sex')"
      ]
     },
     "execution_count": 48,
     "metadata": {},
     "output_type": "execute_result"
    },
    {
     "data": {
      "image/png": "[encoded data removed]",
      "text/plain": [
       "<Figure size 432x288 with 1 Axes>"
      ]
     },
     "metadata": {
      "needs_background": "light"
     },
     "output_type": "display_data"
    }
   ],
   "source": [
    "class_sex_grouping['Survived'].plot.bar()\n",
    "plt.ylabel('Percentage that Survived')\n",
    "plt.title('Titanic survivors by passenger class & sex')"
   ]
  },
  {
   "cell_type": "code",
   "execution_count": 49,
   "metadata": {},
   "outputs": [
    {
     "data": {
      "text/plain": [
       "Text(0.5, 1.0, 'Titanic survivors by age group (in 10 year increments)')"
      ]
     },
     "execution_count": 49,
     "metadata": {},
     "output_type": "execute_result"
    },
    {
     "data": {
      "image/png": "[encoded data removed]",
      "text/plain": [
       "<Figure size 432x288 with 1 Axes>"
      ]
     },
     "metadata": {
      "needs_background": "light"
     },
     "output_type": "display_data"
    }
   ],
   "source": [
    "\n",
    "group_by_age = pd.cut(train[\"Age\"], np.arange(0, 90, 10))\n",
    "age_grouping = train.groupby(group_by_age).mean()\n",
    "age_grouping['Survived'].plot.bar()\n",
    "plt.ylabel('Percentage that Survived')\n",
    "plt.title('Titanic survivors by age group (in 10 year increments)')"
   ]
  },
  {
   "cell_type": "markdown",
   "metadata": {},
   "source": [
    "train['Survivors']=train['Survived'].map({0:'died', 1:'survived'})"
   ]
  },
  {
   "cell_type": "markdown",
   "metadata": {},
   "source": [
    "facet = sns.FacetGrid(train, hue=\"Survivors\",aspect=4)\n",
    "facet.map(sns.kdeplot,'Age',shade= True)\n",
    "facet.set(xlim=(0, train['Age'].max()))\n",
    "facet.add_legend()"
   ]
  },
  {
   "cell_type": "code",
   "execution_count": 50,
   "metadata": {},
   "outputs": [
    {
     "data": {
      "text/plain": [
       "[<matplotlib.lines.Line2D at 0x1cce8d90>]"
      ]
     },
     "execution_count": 50,
     "metadata": {},
     "output_type": "execute_result"
    },
    {
     "data": {
      "image/png": "[encoded data removed]",
      "text/plain": [
       "<Figure size 1296x288 with 1 Axes>"
      ]
     },
     "metadata": {
      "needs_background": "light"
     },
     "output_type": "display_data"
    }
   ],
   "source": [
    "fig, axis1 = plt.subplots(1,1,figsize=(18,4))\n",
    "average_age = passengers[[\"Age\", \"Survived\"]].groupby(['Age'],as_index=False).mean()\n",
    "x='Age'\n",
    "y='Survived'\n",
    "plt.xlabel('Age')\n",
    "plt.ylabel('Survived')\n",
    "plt.title('Titanic Survivers by Age')\n",
    "plt.plot(x,y, data=average_age)"
   ]
  },
  {
   "cell_type": "code",
   "execution_count": 51,
   "metadata": {},
   "outputs": [
    {
     "name": "stdout",
     "output_type": "stream",
     "text": [
      "\u001b[1m\u001b[34m                 Titanic Survivors with and without family members\u001b[0m\n"
     ]
    },
    {
     "data": {
      "text/plain": [
       "[Text(0, 0, 'With Family'), Text(1, 0, 'Alone')]"
      ]
     },
     "execution_count": 51,
     "metadata": {},
     "output_type": "execute_result"
    },
    {
     "data": {
      "image/png": "[encoded data removed]",
      "text/plain": [
       "<Figure size 720x360 with 2 Axes>"
      ]
     },
     "metadata": {
      "needs_background": "light"
     },
     "output_type": "display_data"
    }
   ],
   "source": [
    "# Family\n",
    "\n",
    "# Instead of having two columns Parch & SibSp, \n",
    "# we can have only one column represent if the passenger had any family member aboard or not,\n",
    "# Meaning, if having any family member(whether parent, brother, ...etc) will increase chances of Survival or not.\n",
    "\n",
    "\n",
    "print(colored('                 Titanic Survivors with and without family members'   , 'blue', attrs=['bold']))\n",
    "#print('               Titanic Survivors with and without family members')\n",
    "\n",
    "passengers['Family Status'] =  passengers[\"Parch\"] + passengers[\"SibSp\"]\n",
    "passengers['Family Status'].loc[passengers['Family Status'] > 0] = 1\n",
    "passengers['Family Status'].loc[passengers['Family Status'] == 0] = 0\n",
    "\n",
    "train['Family Status'] =  train[\"Parch\"] + train[\"SibSp\"]\n",
    "train['Family Status'].loc[train['Family Status'] > 0] = 1\n",
    "train['Family Status'].loc[train['Family Status'] == 0] = 0\n",
    "\n",
    "# drop Parch & SibSp\n",
    "passengers = passengers.drop(['SibSp','Parch'], axis=1)\n",
    "train    = train.drop(['SibSp','Parch'], axis=1)\n",
    "\n",
    "# plot\n",
    "fig, (axis1,axis2) = plt.subplots(1,2,sharex=True,figsize=(10,5))\n",
    "\n",
    "# sns.factorplot('Family',data=titanic_df,kind='count',ax=axis1)\n",
    "sns.countplot(x='Family Status', data=passengers, order=[1,0], ax=axis1)\n",
    "\n",
    "\n",
    "# average of survived for those who had/didn't have any family member\n",
    "family_situation = passengers[[\"Family Status\", \"Survived\"]].groupby(['Family Status'],as_index=False).mean()\n",
    "sns.barplot(x='Family Status', y='Survived', data=family_situation, order=[1,0], ax=axis2)\n",
    "\n",
    "axis1.set_xticklabels([\"With Family\",\"Alone\"], rotation=0)\n"
   ]
  },
  {
   "cell_type": "code",
   "execution_count": 52,
   "metadata": {},
   "outputs": [
    {
     "name": "stdout",
     "output_type": "stream",
     "text": [
      "     PassengerId  Survived  Pclass  \\\n",
      "0              1         0       3   \n",
      "1              2         1       1   \n",
      "2              3         1       3   \n",
      "3              4         1       1   \n",
      "4              5         0       3   \n",
      "..           ...       ...     ...   \n",
      "886          887         0       2   \n",
      "887          888         1       1   \n",
      "888          889         0       3   \n",
      "889          890         1       1   \n",
      "890          891         0       3   \n",
      "\n",
      "                                                  Name     Sex   Age  \\\n",
      "0                              Braund, Mr. Owen Harris    male  22.0   \n",
      "1    Cumings, Mrs. John Bradley (Florence Briggs Th...  female  38.0   \n",
      "2                               Heikkinen, Miss. Laina  female  26.0   \n",
      "3         Futrelle, Mrs. Jacques Heath (Lily May Peel)  female  35.0   \n",
      "4                             Allen, Mr. William Henry    male  35.0   \n",
      "..                                                 ...     ...   ...   \n",
      "886                              Montvila, Rev. Juozas    male  27.0   \n",
      "887                       Graham, Miss. Margaret Edith  female  19.0   \n",
      "888           Johnston, Miss. Catherine Helen \"Carrie\"  female   NaN   \n",
      "889                              Behr, Mr. Karl Howell    male  26.0   \n",
      "890                                Dooley, Mr. Patrick    male  32.0   \n",
      "\n",
      "               Ticket     Fare Cabin Embarked  Family Status  \n",
      "0           A/5 21171   7.2500   NaN        S              1  \n",
      "1            PC 17599  71.2833   C85        C              1  \n",
      "2    STON/O2. 3101282   7.9250   NaN        S              0  \n",
      "3              113803  53.1000  C123        S              1  \n",
      "4              373450   8.0500   NaN        S              0  \n",
      "..                ...      ...   ...      ...            ...  \n",
      "886            211536  13.0000   NaN        S              0  \n",
      "887            112053  30.0000   B42        S              0  \n",
      "888        W./C. 6607  23.4500   NaN        S              1  \n",
      "889            111369  30.0000  C148        C              0  \n",
      "890            370376   7.7500   NaN        Q              0  \n",
      "\n",
      "[891 rows x 11 columns]\n"
     ]
    }
   ],
   "source": [
    "print(passengers)"
   ]
  },
  {
   "cell_type": "code",
   "execution_count": null,
   "metadata": {},
   "outputs": [],
   "source": []
  },
  {
   "cell_type": "code",
   "execution_count": null,
   "metadata": {},
   "outputs": [],
   "source": []
  },
  {
   "cell_type": "code",
   "execution_count": null,
   "metadata": {},
   "outputs": [],
   "source": []
  }
 ],
 "metadata": {
  "kernelspec": {
   "display_name": "Python 3",
   "language": "python",
   "name": "python3"
  },
  "language_info": {
   "codemirror_mode": {
    "name": "ipython",
    "version": 3
   },
   "file_extension": ".py",
   "mimetype": "text/x-python",
   "name": "python",
   "nbconvert_exporter": "python",
   "pygments_lexer": "ipython3",
   "version": "3.8.2"
  }
 },
 "nbformat": 4,
 "nbformat_minor": 4
}
