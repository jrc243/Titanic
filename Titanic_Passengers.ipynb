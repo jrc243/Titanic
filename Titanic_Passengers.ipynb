{
 "cells": [
  {
   "cell_type": "code",
   "execution_count": 1,
   "metadata": {},
   "outputs": [],
   "source": [
    "#  Predict Titanic Survival\n",
    "#The RMS Titanic set sail on its maiden voyage in 1912, crossing the Atlantic from Southampton, England to New York City. The ship never completed the voyage, sinking to the bottom of the Atlantic Ocean after hitting an iceberg, bringing down 1,502 of 2,224 passengers onboard.\n",
    "#In this project you will create a Logistic Regression model that predicts which passengers survived the sinking of the Titanic, based on features like age and class.\n",
    "#The data we will be using for training our model is provided by Kaggle. Feel free to make the model better on your own and submit it to the Kaggle Titanic competition!\n",
    "#If you get stuck during this project or would like to see an experienced developer copmplete it, check out the project walkthrough video which can be found in the “get help” menu in the bottom-right of this window."
   ]
  },
  {
   "cell_type": "code",
   "execution_count": 2,
   "metadata": {},
   "outputs": [],
   "source": [
    "import seaborn\n",
    "import pandas as pd\n",
    "import numpy as np\n",
    "import matplotlib.pyplot as plt\n",
    "from sklearn.linear_model import LogisticRegression\n",
    "from sklearn.model_selection import train_test_split\n",
    "from sklearn.preprocessing import StandardScaler"
   ]
  },
  {
   "cell_type": "code",
   "execution_count": 3,
   "metadata": {},
   "outputs": [],
   "source": [
    "#1. The file passengers.csv contains the data of 892 passengers onboard the Titanic when it sank that fateful day.\n",
    "#Let’s begin by loading the data into a pandas DataFrame named passengers. \n",
    "#Print passengers and inspect the columns. What features could we use to predict survival?"
   ]
  },
  {
   "cell_type": "code",
   "execution_count": 4,
   "metadata": {},
   "outputs": [],
   "source": [
    "passengers = pd.read_csv('passengers.csv', delimiter =',')\n",
    "#print(passengers)"
   ]
  },
  {
   "cell_type": "code",
   "execution_count": 5,
   "metadata": {},
   "outputs": [],
   "source": [
    "#2. Given the saying, “women and children first,” Sex and Age seem like good features to predict survival. \n",
    "#Let’s map the text values in the Sex column to a numerical value. \n",
    "#Update Sex such that all values female are replaced with 1 and all values male are replaced with 0. Turn column into integers."
   ]
  },
  {
   "cell_type": "code",
   "execution_count": 6,
   "metadata": {},
   "outputs": [
    {
     "name": "stdout",
     "output_type": "stream",
     "text": [
      "     PassengerId  Survived  Pclass  \\\n",
      "0              1         0       3   \n",
      "1              2         1       1   \n",
      "2              3         1       3   \n",
      "3              4         1       1   \n",
      "4              5         0       3   \n",
      "..           ...       ...     ...   \n",
      "886          887         0       2   \n",
      "887          888         1       1   \n",
      "888          889         0       3   \n",
      "889          890         1       1   \n",
      "890          891         0       3   \n",
      "\n",
      "                                                  Name  Sex   Age  SibSp  \\\n",
      "0                              Braund, Mr. Owen Harris    0  22.0      1   \n",
      "1    Cumings, Mrs. John Bradley (Florence Briggs Th...    1  38.0      1   \n",
      "2                               Heikkinen, Miss. Laina    1  26.0      0   \n",
      "3         Futrelle, Mrs. Jacques Heath (Lily May Peel)    1  35.0      1   \n",
      "4                             Allen, Mr. William Henry    0  35.0      0   \n",
      "..                                                 ...  ...   ...    ...   \n",
      "886                              Montvila, Rev. Juozas    0  27.0      0   \n",
      "887                       Graham, Miss. Margaret Edith    1  19.0      0   \n",
      "888           Johnston, Miss. Catherine Helen \"Carrie\"    1   NaN      1   \n",
      "889                              Behr, Mr. Karl Howell    0  26.0      0   \n",
      "890                                Dooley, Mr. Patrick    0  32.0      0   \n",
      "\n",
      "     Parch            Ticket     Fare Cabin Embarked  \n",
      "0        0         A/5 21171   7.2500   NaN        S  \n",
      "1        0          PC 17599  71.2833   C85        C  \n",
      "2        0  STON/O2. 3101282   7.9250   NaN        S  \n",
      "3        0            113803  53.1000  C123        S  \n",
      "4        0            373450   8.0500   NaN        S  \n",
      "..     ...               ...      ...   ...      ...  \n",
      "886      0            211536  13.0000   NaN        S  \n",
      "887      0            112053  30.0000   B42        S  \n",
      "888      2        W./C. 6607  23.4500   NaN        S  \n",
      "889      0            111369  30.0000  C148        C  \n",
      "890      0            370376   7.7500   NaN        Q  \n",
      "\n",
      "[891 rows x 12 columns]\n"
     ]
    }
   ],
   "source": [
    "passengers['Sex']=passengers['Sex'].map({'male':0, 'female': 1})\n",
    "print(passengers)"
   ]
  },
  {
   "cell_type": "code",
   "execution_count": 7,
   "metadata": {},
   "outputs": [],
   "source": [
    "#3. Let’s take a look at Age. Print passengers['Age'].values. \n",
    "#You can see we have multiple missing values, or nans. Fill all the empty Age values in passengers with the mean age.\n",
    "# inplace will modify passengers.Age, so it does not create a new column.\n",
    "# # use the round function to round the mean value."
   ]
  },
  {
   "cell_type": "code",
   "execution_count": 8,
   "metadata": {},
   "outputs": [
    {
     "name": "stdout",
     "output_type": "stream",
     "text": [
      "     PassengerId  Survived  Pclass  \\\n",
      "0              1         0       3   \n",
      "1              2         1       1   \n",
      "2              3         1       3   \n",
      "3              4         1       1   \n",
      "4              5         0       3   \n",
      "..           ...       ...     ...   \n",
      "886          887         0       2   \n",
      "887          888         1       1   \n",
      "888          889         0       3   \n",
      "889          890         1       1   \n",
      "890          891         0       3   \n",
      "\n",
      "                                                  Name  Sex   Age  SibSp  \\\n",
      "0                              Braund, Mr. Owen Harris    0  22.0      1   \n",
      "1    Cumings, Mrs. John Bradley (Florence Briggs Th...    1  38.0      1   \n",
      "2                               Heikkinen, Miss. Laina    1  26.0      0   \n",
      "3         Futrelle, Mrs. Jacques Heath (Lily May Peel)    1  35.0      1   \n",
      "4                             Allen, Mr. William Henry    0  35.0      0   \n",
      "..                                                 ...  ...   ...    ...   \n",
      "886                              Montvila, Rev. Juozas    0  27.0      0   \n",
      "887                       Graham, Miss. Margaret Edith    1  19.0      0   \n",
      "888           Johnston, Miss. Catherine Helen \"Carrie\"    1  30.0      1   \n",
      "889                              Behr, Mr. Karl Howell    0  26.0      0   \n",
      "890                                Dooley, Mr. Patrick    0  32.0      0   \n",
      "\n",
      "     Parch            Ticket     Fare Cabin Embarked  \n",
      "0        0         A/5 21171   7.2500   NaN        S  \n",
      "1        0          PC 17599  71.2833   C85        C  \n",
      "2        0  STON/O2. 3101282   7.9250   NaN        S  \n",
      "3        0            113803  53.1000  C123        S  \n",
      "4        0            373450   8.0500   NaN        S  \n",
      "..     ...               ...      ...   ...      ...  \n",
      "886      0            211536  13.0000   NaN        S  \n",
      "887      0            112053  30.0000   B42        S  \n",
      "888      2        W./C. 6607  23.4500   NaN        S  \n",
      "889      0            111369  30.0000  C148        C  \n",
      "890      0            370376   7.7500   NaN        Q  \n",
      "\n",
      "[891 rows x 12 columns]\n"
     ]
    }
   ],
   "source": [
    "passengers['Age'].fillna(inplace=True, value=round(passengers['Age'].mean()))\n",
    "print(passengers)"
   ]
  },
  {
   "cell_type": "code",
   "execution_count": 9,
   "metadata": {},
   "outputs": [],
   "source": [
    "#4 Given the strict class system onboard the Titanic, let’s utilize the Pclass column, or the passenger class, as another feature. \n",
    "#Create a new column named FirstClass that stores 1 for all passengers in first class and 0 for all other passengers.\n",
    "#Use apply(), which will apply a specific lambda function to every single value inside of PClass.\n",
    "#We can then use that to map each PClass value to a new value in the FirstClass column."
   ]
  },
  {
   "cell_type": "code",
   "execution_count": 10,
   "metadata": {},
   "outputs": [
    {
     "name": "stdout",
     "output_type": "stream",
     "text": [
      "     PassengerId  Survived  Pclass  \\\n",
      "0              1         0       3   \n",
      "1              2         1       1   \n",
      "2              3         1       3   \n",
      "3              4         1       1   \n",
      "4              5         0       3   \n",
      "..           ...       ...     ...   \n",
      "886          887         0       2   \n",
      "887          888         1       1   \n",
      "888          889         0       3   \n",
      "889          890         1       1   \n",
      "890          891         0       3   \n",
      "\n",
      "                                                  Name  Sex   Age  SibSp  \\\n",
      "0                              Braund, Mr. Owen Harris    0  22.0      1   \n",
      "1    Cumings, Mrs. John Bradley (Florence Briggs Th...    1  38.0      1   \n",
      "2                               Heikkinen, Miss. Laina    1  26.0      0   \n",
      "3         Futrelle, Mrs. Jacques Heath (Lily May Peel)    1  35.0      1   \n",
      "4                             Allen, Mr. William Henry    0  35.0      0   \n",
      "..                                                 ...  ...   ...    ...   \n",
      "886                              Montvila, Rev. Juozas    0  27.0      0   \n",
      "887                       Graham, Miss. Margaret Edith    1  19.0      0   \n",
      "888           Johnston, Miss. Catherine Helen \"Carrie\"    1  30.0      1   \n",
      "889                              Behr, Mr. Karl Howell    0  26.0      0   \n",
      "890                                Dooley, Mr. Patrick    0  32.0      0   \n",
      "\n",
      "     Parch            Ticket     Fare Cabin Embarked  FirstClass  \n",
      "0        0         A/5 21171   7.2500   NaN        S           0  \n",
      "1        0          PC 17599  71.2833   C85        C           1  \n",
      "2        0  STON/O2. 3101282   7.9250   NaN        S           0  \n",
      "3        0            113803  53.1000  C123        S           1  \n",
      "4        0            373450   8.0500   NaN        S           0  \n",
      "..     ...               ...      ...   ...      ...         ...  \n",
      "886      0            211536  13.0000   NaN        S           0  \n",
      "887      0            112053  30.0000   B42        S           1  \n",
      "888      2        W./C. 6607  23.4500   NaN        S           0  \n",
      "889      0            111369  30.0000  C148        C           1  \n",
      "890      0            370376   7.7500   NaN        Q           0  \n",
      "\n",
      "[891 rows x 13 columns]\n"
     ]
    }
   ],
   "source": [
    "passengers['FirstClass']=passengers['Pclass'].apply(lambda p: 1 if p ==1 else 0)\n",
    "print(passengers) ##now only FirstClass passengers have a 1 in their column."
   ]
  },
  {
   "cell_type": "code",
   "execution_count": 11,
   "metadata": {},
   "outputs": [],
   "source": [
    "#5 Create a new column named SecondClass that stores 1 for all passengers in second class and 0 for all other passengers.\n",
    "#Print passengers and inspect the DataFrame to ensure all the updates have been made."
   ]
  },
  {
   "cell_type": "code",
   "execution_count": 12,
   "metadata": {},
   "outputs": [
    {
     "name": "stdout",
     "output_type": "stream",
     "text": [
      "     PassengerId  Survived  Pclass  \\\n",
      "0              1         0       3   \n",
      "1              2         1       1   \n",
      "2              3         1       3   \n",
      "3              4         1       1   \n",
      "4              5         0       3   \n",
      "..           ...       ...     ...   \n",
      "886          887         0       2   \n",
      "887          888         1       1   \n",
      "888          889         0       3   \n",
      "889          890         1       1   \n",
      "890          891         0       3   \n",
      "\n",
      "                                                  Name  Sex   Age  SibSp  \\\n",
      "0                              Braund, Mr. Owen Harris    0  22.0      1   \n",
      "1    Cumings, Mrs. John Bradley (Florence Briggs Th...    1  38.0      1   \n",
      "2                               Heikkinen, Miss. Laina    1  26.0      0   \n",
      "3         Futrelle, Mrs. Jacques Heath (Lily May Peel)    1  35.0      1   \n",
      "4                             Allen, Mr. William Henry    0  35.0      0   \n",
      "..                                                 ...  ...   ...    ...   \n",
      "886                              Montvila, Rev. Juozas    0  27.0      0   \n",
      "887                       Graham, Miss. Margaret Edith    1  19.0      0   \n",
      "888           Johnston, Miss. Catherine Helen \"Carrie\"    1  30.0      1   \n",
      "889                              Behr, Mr. Karl Howell    0  26.0      0   \n",
      "890                                Dooley, Mr. Patrick    0  32.0      0   \n",
      "\n",
      "     Parch            Ticket     Fare Cabin Embarked  FirstClass  SecondClass  \n",
      "0        0         A/5 21171   7.2500   NaN        S           0            0  \n",
      "1        0          PC 17599  71.2833   C85        C           1            0  \n",
      "2        0  STON/O2. 3101282   7.9250   NaN        S           0            0  \n",
      "3        0            113803  53.1000  C123        S           1            0  \n",
      "4        0            373450   8.0500   NaN        S           0            0  \n",
      "..     ...               ...      ...   ...      ...         ...          ...  \n",
      "886      0            211536  13.0000   NaN        S           0            1  \n",
      "887      0            112053  30.0000   B42        S           1            0  \n",
      "888      2        W./C. 6607  23.4500   NaN        S           0            0  \n",
      "889      0            111369  30.0000  C148        C           1            0  \n",
      "890      0            370376   7.7500   NaN        Q           0            0  \n",
      "\n",
      "[891 rows x 14 columns]\n"
     ]
    }
   ],
   "source": [
    "passengers['SecondClass']=passengers['Pclass'].apply(lambda p: 1 if p ==2 else 0)\n",
    "print(passengers)"
   ]
  },
  {
   "cell_type": "code",
   "execution_count": 13,
   "metadata": {},
   "outputs": [],
   "source": [
    "#6 Now that we have cleaned our data, let’s select the columns we want to build our model on. \n",
    "# Select columns Sex, Age, FirstClass, and SecondClass and store them in a variable named features. Select column Survived and store it a variable named survival.\n",
    "##Create an array"
   ]
  },
  {
   "cell_type": "code",
   "execution_count": 14,
   "metadata": {},
   "outputs": [],
   "source": [
    "features=passengers[['Sex', 'Age', 'FirstClass', 'SecondClass']]\n",
    "survived=passengers['Survived']"
   ]
  },
  {
   "cell_type": "code",
   "execution_count": 15,
   "metadata": {},
   "outputs": [],
   "source": [
    "#7 Split the data into training and test sets using sklearn‘s train_test_split() method. \n",
    "# We’ll use the training set to train the model and the test set to evaluate the model."
   ]
  },
  {
   "cell_type": "code",
   "execution_count": 16,
   "metadata": {},
   "outputs": [],
   "source": [
    "train_features, test_features, train_labels, test_labels = train_test_split(features, survived)"
   ]
  },
  {
   "cell_type": "code",
   "execution_count": 17,
   "metadata": {},
   "outputs": [],
   "source": [
    "##Normalize the Data\n",
    "#8 Since sklearn‘s Logistic Regression implementation uses Regularization, we need to scale our feature data. \n",
    "# Create a StandardScaler object, .fit_transform() it on the training features, and .transform() the test features."
   ]
  },
  {
   "cell_type": "code",
   "execution_count": 18,
   "metadata": {},
   "outputs": [],
   "source": [
    "scaler=StandardScaler()\n",
    "train_features = scaler.fit_transform(train_features)\n",
    "\n",
    "test_features = scaler.transform(test_features)"
   ]
  },
  {
   "cell_type": "code",
   "execution_count": 19,
   "metadata": {},
   "outputs": [],
   "source": [
    "#9 Create a LogisticRegression model with sklearn and .fit() it on the training data.\n",
    "# Fitting the model will perform gradient descent to find the feature coefficients that minimize the log-loss for the training data."
   ]
  },
  {
   "cell_type": "code",
   "execution_count": 20,
   "metadata": {},
   "outputs": [
    {
     "data": {
      "text/plain": [
       "LogisticRegression()"
      ]
     },
     "execution_count": 20,
     "metadata": {},
     "output_type": "execute_result"
    }
   ],
   "source": [
    "model = LogisticRegression()\n",
    "model.fit(train_features, train_labels)\n",
    "##this will train our model to recognize which type of passengers survived and which\n",
    "#-type of passengers didn't survive based on the features (Sex, Age, FirstClass, SecondClass)"
   ]
  },
  {
   "cell_type": "code",
   "execution_count": 21,
   "metadata": {},
   "outputs": [],
   "source": [
    "#10 .score() the model on the training data and print the training score.\n",
    "# Scoring the model on the training data will run the data through the model and make final classifications on survival for each passenger in the training set. \n",
    "# The score returned is the percentage of correct classifications, or the accuracy."
   ]
  },
  {
   "cell_type": "code",
   "execution_count": 22,
   "metadata": {},
   "outputs": [
    {
     "name": "stdout",
     "output_type": "stream",
     "text": [
      "0.781437125748503\n"
     ]
    }
   ],
   "source": [
    "print(model.score(train_features, train_labels))  ##result: about an 80% accuracy rate"
   ]
  },
  {
   "cell_type": "code",
   "execution_count": 23,
   "metadata": {},
   "outputs": [],
   "source": [
    "#11 .score() the model on the test data and print the test score.\n",
    "#Smilarly, scoring the model on the testing data will run the data through the model and make final classifications on survival for each passenger in the test set.\n",
    "# w well did your model perform?"
   ]
  },
  {
   "cell_type": "code",
   "execution_count": 24,
   "metadata": {},
   "outputs": [
    {
     "name": "stdout",
     "output_type": "stream",
     "text": [
      "0.8295964125560538\n"
     ]
    }
   ],
   "source": [
    "print(model.score(test_features, test_labels))  #result is almost the same as the train score"
   ]
  },
  {
   "cell_type": "code",
   "execution_count": 25,
   "metadata": {},
   "outputs": [],
   "source": [
    "#12 Print the feature coefficients determined by the model. \n",
    "# Which feature is most important in predicting survival on the sinking of the Titanic?\n",
    "\n",
    "##Feature coefficients =Sex, Age, FirstClass, SecondClass. How significant were each of these feature coefficients in determining if someone survived."
   ]
  },
  {
   "cell_type": "code",
   "execution_count": 26,
   "metadata": {},
   "outputs": [
    {
     "name": "stdout",
     "output_type": "stream",
     "text": [
      "0.8295964125560538\n",
      "[[ 1.14041457 -0.33208631  0.91372091  0.52413877]]\n"
     ]
    }
   ],
   "source": [
    "print(model.score(test_features, test_labels))\n",
    "print(model.coef_)  #the printed array results are in this order: Sex, Age, FirstClass, SecondClass. "
   ]
  },
  {
   "cell_type": "code",
   "execution_count": 27,
   "metadata": {},
   "outputs": [],
   "source": [
    "#13.Let’s use our model to make predictions on the survival of a few fateful passengers. Provided in the code editor is information for 3rd class passenger Jack and 1st class passenger Rose, stored in NumPy arrays. The arrays store 4 feature values, in the following order:\n",
    "#Sex, represented by a 0 for male and 1 for female\n",
    "#Age, represented as an integer in years\n",
    "#FirstClass, with a 1 indicating the passenger is in first class\n",
    "#SecondClass, with a 1 indicating the passenger is in second class\n",
    "#A third array, You, is also provided in the code editor with empty feature values. Uncomment the line containing You and update the array with your information, or the information for some fictitious passenger. Make sure to enter all values as floats with a .!"
   ]
  },
  {
   "cell_type": "code",
   "execution_count": 28,
   "metadata": {},
   "outputs": [],
   "source": [
    "Jack= np.array([0.0,20.0,0.0,0.0])\n",
    "Rose= np.array([1.0,17.0,1.0,0.0])\n",
    "You= np.array([0.0,47.0,0.0,1.0])"
   ]
  },
  {
   "cell_type": "code",
   "execution_count": 29,
   "metadata": {},
   "outputs": [],
   "source": [
    "#14 Combine Jack, Rose, and You into a single NumPy array named sample_passengers"
   ]
  },
  {
   "cell_type": "code",
   "execution_count": 30,
   "metadata": {},
   "outputs": [],
   "source": [
    "sample_passengers=np.array([Jack, Rose, You])"
   ]
  },
  {
   "cell_type": "code",
   "execution_count": 31,
   "metadata": {},
   "outputs": [],
   "source": [
    "#15 Since our Logistic Regression model was trained on scaled feature data, we must also scale the feature data we are making predictions on. \n",
    "#Using the StandardScaler object created earlier, apply its .transform() method to sample_passengers and save the result to sample_passengers.\n",
    "# Print sample_passengers to view the scaled features."
   ]
  },
  {
   "cell_type": "code",
   "execution_count": 32,
   "metadata": {},
   "outputs": [],
   "source": [
    "sample_passengers=scaler.transform(sample_passengers) ##normalize"
   ]
  },
  {
   "cell_type": "code",
   "execution_count": 33,
   "metadata": {},
   "outputs": [],
   "source": [
    "#16 Who will survive, and who will sink? Use your model’s .predict() method on sample_passengers and print the result to find out.\n",
    "# Want to see the probabilities that led to these predictions? Call your model’s .predict_proba() method on sample_passengers and print the result. \n",
    "#The 1st column is the probability of a passenger perishing on the Titanic, and the 2nd column is the probability of a passenger surviving the sinking (which was calculated by our model to make the final classification decision)."
   ]
  },
  {
   "cell_type": "code",
   "execution_count": 34,
   "metadata": {},
   "outputs": [
    {
     "name": "stdout",
     "output_type": "stream",
     "text": [
      "[0 1 0]\n",
      "[[0.88625317 0.11374683]\n",
      " [0.07425643 0.92574357]\n",
      " [0.80789486 0.19210514]]\n"
     ]
    }
   ],
   "source": [
    "print(model.predict(sample_passengers))\n",
    "\n",
    "print(model.predict_proba(sample_passengers))"
   ]
  },
  {
   "cell_type": "code",
   "execution_count": 35,
   "metadata": {},
   "outputs": [],
   "source": [
    "# predict_proba Results: \n",
    "# [[0.88903321 0.11096679] Jack had an 88% chance of dying and an 11% chance of surviving\n",
    "# [0.05447605 0.94552395]  Rose had a 5% chance of dying and a 94% chance of surviving\n",
    "# [0.14235909 0.85764091]] I had a 14% chance of dying and a 85% of dying"
   ]
  },
  {
   "cell_type": "code",
   "execution_count": 1,
   "metadata": {},
   "outputs": [
    {
     "name": "stdout",
     "output_type": "stream",
     "text": [
      "hello\n"
     ]
    }
   ],
   "source": [
    "print(\"hello\")\n"
   ]
  },
  {
   "cell_type": "code",
   "execution_count": 2,
   "metadata": {},
   "outputs": [
    {
     "name": "stdout",
     "output_type": "stream",
     "text": [
      "hi\n"
     ]
    }
   ],
   "source": [
    "print(\"hi\")"
   ]
  },
  {
   "cell_type": "code",
   "execution_count": 3,
   "metadata": {},
   "outputs": [
    {
     "name": "stdout",
     "output_type": "stream",
     "text": [
      "ok\n"
     ]
    }
   ],
   "source": [
    "print(\"ok\")"
   ]
  },
  {
   "cell_type": "code",
   "execution_count": 5,
   "metadata": {},
   "outputs": [
    {
     "name": "stdout",
     "output_type": "stream",
     "text": [
      "I hate covid\n"
     ]
    }
   ],
   "source": [
    "print(\"I hate covid\")"
   ]
  },
  {
   "cell_type": "code",
   "execution_count": 1,
   "metadata": {},
   "outputs": [
    {
     "name": "stdout",
     "output_type": "stream",
     "text": [
      "we really have covid\n"
     ]
    }
   ],
   "source": [
    "print(\"we really have covid\")"
   ]
  },
  {
   "cell_type": "code",
   "execution_count": 2,
   "metadata": {},
   "outputs": [
    {
     "name": "stdout",
     "output_type": "stream",
     "text": [
      "2\n"
     ]
    }
   ],
   "source": [
    "print(1+1)"
   ]
  },
  {
   "cell_type": "code",
   "execution_count": null,
   "metadata": {},
   "outputs": [],
   "source": []
  }
 ],
 "metadata": {
  "kernelspec": {
   "display_name": "Python 3",
   "language": "python",
   "name": "python3"
  },
  "language_info": {
   "codemirror_mode": {
    "name": "ipython",
    "version": 3
   },
   "file_extension": ".py",
   "mimetype": "text/x-python",
   "name": "python",
   "nbconvert_exporter": "python",
   "pygments_lexer": "ipython3",
   "version": "3.8.2"
  }
 },
 "nbformat": 4,
 "nbformat_minor": 4
}
