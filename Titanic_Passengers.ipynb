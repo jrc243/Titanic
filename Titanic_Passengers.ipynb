{
 "cells": [
  {
   "cell_type": "markdown",
   "metadata": {},
   "source": [
    "                                       Predicting survial on the great Titanic\n",
    "                                       \n",
    "The RMS Titanic set sail on its maiden voyage on April 10th 1912, crossing the Atlantic from Southampton, England to New York City. The ship never completed the voyage, sinking to the bottom of the Atlantic Ocean after hitting an iceberg, bringing down 1,502 of 2,224 passengers onboard.\n",
    "\n",
    "In this project I will create some plots to view passenger data of the titanic to see how certain factors affected survival. I will also create a Logistic Regression model that predicts which passengers survived based on features including age, sex and passenger class. \n",
    "Lastly, I ask some interesting questions at the end of the project to see if some additional criteria may also help predict who survived the sinking of the Titanic. \n",
    "\n",
    "The data I used for the training model is provided by Kaggle. For full disclosure, much of this project was inspired from the Titanic exercise that I completed on Codecademy (with hints from a Codecademy instructor). \n",
    "I also viewed other Titanic projects from others that posted notebooks on Kaggle as a learning tool. I used bits and pieces from several of these notebooks as well as online searches to put this project together, and I tweaked and reworked it to make it my own. "
   ]
  },
  {
   "cell_type": "code",
   "execution_count": 1,
   "metadata": {},
   "outputs": [],
   "source": [
    "import seaborn\n",
    "import pandas as pd\n",
    "import numpy as np\n",
    "%matplotlib inline\n",
    "import seaborn as sns\n",
    "import matplotlib.pyplot as plt\n",
    "from sklearn.linear_model import LogisticRegression\n",
    "from sklearn.model_selection import train_test_split\n",
    "from sklearn.preprocessing import StandardScaler\n",
    "import warnings\n",
    "warnings.filterwarnings('ignore')\n",
    "from termcolor import colored"
   ]
  },
  {
   "cell_type": "markdown",
   "metadata": {},
   "source": [
    "First, let's load the train file and test file so that we can view the data.\n",
    "The first question is what features can I use to predict survival?"
   ]
  },
  {
   "cell_type": "code",
   "execution_count": 2,
   "metadata": {},
   "outputs": [
    {
     "name": "stdout",
     "output_type": "stream",
     "text": [
      "     PassengerId  Survived  Pclass  \\\n",
      "0              1         0       3   \n",
      "1              2         1       1   \n",
      "2              3         1       3   \n",
      "3              4         1       1   \n",
      "4              5         0       3   \n",
      "..           ...       ...     ...   \n",
      "886          887         0       2   \n",
      "887          888         1       1   \n",
      "888          889         0       3   \n",
      "889          890         1       1   \n",
      "890          891         0       3   \n",
      "\n",
      "                                                  Name     Sex   Age  SibSp  \\\n",
      "0                              Braund, Mr. Owen Harris    male  22.0      1   \n",
      "1    Cumings, Mrs. John Bradley (Florence Briggs Th...  female  38.0      1   \n",
      "2                               Heikkinen, Miss. Laina  female  26.0      0   \n",
      "3         Futrelle, Mrs. Jacques Heath (Lily May Peel)  female  35.0      1   \n",
      "4                             Allen, Mr. William Henry    male  35.0      0   \n",
      "..                                                 ...     ...   ...    ...   \n",
      "886                              Montvila, Rev. Juozas    male  27.0      0   \n",
      "887                       Graham, Miss. Margaret Edith  female  19.0      0   \n",
      "888           Johnston, Miss. Catherine Helen \"Carrie\"  female   NaN      1   \n",
      "889                              Behr, Mr. Karl Howell    male  26.0      0   \n",
      "890                                Dooley, Mr. Patrick    male  32.0      0   \n",
      "\n",
      "     Parch            Ticket     Fare Cabin Embarked  \n",
      "0        0         A/5 21171   7.2500   NaN        S  \n",
      "1        0          PC 17599  71.2833   C85        C  \n",
      "2        0  STON/O2. 3101282   7.9250   NaN        S  \n",
      "3        0            113803  53.1000  C123        S  \n",
      "4        0            373450   8.0500   NaN        S  \n",
      "..     ...               ...      ...   ...      ...  \n",
      "886      0            211536  13.0000   NaN        S  \n",
      "887      0            112053  30.0000   B42        S  \n",
      "888      2        W./C. 6607  23.4500   NaN        S  \n",
      "889      0            111369  30.0000  C148        C  \n",
      "890      0            370376   7.7500   NaN        Q  \n",
      "\n",
      "[891 rows x 12 columns]\n"
     ]
    }
   ],
   "source": [
    "train = pd.read_csv('train.csv', delimiter =',')\n",
    "print(train)"
   ]
  },
  {
   "cell_type": "code",
   "execution_count": 3,
   "metadata": {},
   "outputs": [],
   "source": [
    "test= pd.read_csv(\"test.csv\")\n",
    "#print(train.head())\n",
    "#print(test.head())"
   ]
  },
  {
   "cell_type": "code",
   "execution_count": 4,
   "metadata": {},
   "outputs": [
    {
     "data": {
      "text/html": [
       "<div>\n",
       "<style scoped>\n",
       "    .dataframe tbody tr th:only-of-type {\n",
       "        vertical-align: middle;\n",
       "    }\n",
       "\n",
       "    .dataframe tbody tr th {\n",
       "        vertical-align: top;\n",
       "    }\n",
       "\n",
       "    .dataframe thead th {\n",
       "        text-align: right;\n",
       "    }\n",
       "</style>\n",
       "<table border=\"1\" class=\"dataframe\">\n",
       "  <thead>\n",
       "    <tr style=\"text-align: right;\">\n",
       "      <th></th>\n",
       "      <th>PassengerId</th>\n",
       "      <th>Survived</th>\n",
       "      <th>Pclass</th>\n",
       "      <th>Age</th>\n",
       "      <th>SibSp</th>\n",
       "      <th>Parch</th>\n",
       "      <th>Fare</th>\n",
       "    </tr>\n",
       "  </thead>\n",
       "  <tbody>\n",
       "    <tr>\n",
       "      <th>count</th>\n",
       "      <td>891.000000</td>\n",
       "      <td>891.000000</td>\n",
       "      <td>891.000000</td>\n",
       "      <td>714.000000</td>\n",
       "      <td>891.000000</td>\n",
       "      <td>891.000000</td>\n",
       "      <td>891.000000</td>\n",
       "    </tr>\n",
       "    <tr>\n",
       "      <th>mean</th>\n",
       "      <td>446.000000</td>\n",
       "      <td>0.383838</td>\n",
       "      <td>2.308642</td>\n",
       "      <td>29.699118</td>\n",
       "      <td>0.523008</td>\n",
       "      <td>0.381594</td>\n",
       "      <td>32.204208</td>\n",
       "    </tr>\n",
       "    <tr>\n",
       "      <th>std</th>\n",
       "      <td>257.353842</td>\n",
       "      <td>0.486592</td>\n",
       "      <td>0.836071</td>\n",
       "      <td>14.526497</td>\n",
       "      <td>1.102743</td>\n",
       "      <td>0.806057</td>\n",
       "      <td>49.693429</td>\n",
       "    </tr>\n",
       "    <tr>\n",
       "      <th>min</th>\n",
       "      <td>1.000000</td>\n",
       "      <td>0.000000</td>\n",
       "      <td>1.000000</td>\n",
       "      <td>0.420000</td>\n",
       "      <td>0.000000</td>\n",
       "      <td>0.000000</td>\n",
       "      <td>0.000000</td>\n",
       "    </tr>\n",
       "    <tr>\n",
       "      <th>25%</th>\n",
       "      <td>223.500000</td>\n",
       "      <td>0.000000</td>\n",
       "      <td>2.000000</td>\n",
       "      <td>20.125000</td>\n",
       "      <td>0.000000</td>\n",
       "      <td>0.000000</td>\n",
       "      <td>7.910400</td>\n",
       "    </tr>\n",
       "    <tr>\n",
       "      <th>50%</th>\n",
       "      <td>446.000000</td>\n",
       "      <td>0.000000</td>\n",
       "      <td>3.000000</td>\n",
       "      <td>28.000000</td>\n",
       "      <td>0.000000</td>\n",
       "      <td>0.000000</td>\n",
       "      <td>14.454200</td>\n",
       "    </tr>\n",
       "    <tr>\n",
       "      <th>75%</th>\n",
       "      <td>668.500000</td>\n",
       "      <td>1.000000</td>\n",
       "      <td>3.000000</td>\n",
       "      <td>38.000000</td>\n",
       "      <td>1.000000</td>\n",
       "      <td>0.000000</td>\n",
       "      <td>31.000000</td>\n",
       "    </tr>\n",
       "    <tr>\n",
       "      <th>max</th>\n",
       "      <td>891.000000</td>\n",
       "      <td>1.000000</td>\n",
       "      <td>3.000000</td>\n",
       "      <td>80.000000</td>\n",
       "      <td>8.000000</td>\n",
       "      <td>6.000000</td>\n",
       "      <td>512.329200</td>\n",
       "    </tr>\n",
       "  </tbody>\n",
       "</table>\n",
       "</div>"
      ],
      "text/plain": [
       "       PassengerId    Survived      Pclass         Age       SibSp  \\\n",
       "count   891.000000  891.000000  891.000000  714.000000  891.000000   \n",
       "mean    446.000000    0.383838    2.308642   29.699118    0.523008   \n",
       "std     257.353842    0.486592    0.836071   14.526497    1.102743   \n",
       "min       1.000000    0.000000    1.000000    0.420000    0.000000   \n",
       "25%     223.500000    0.000000    2.000000   20.125000    0.000000   \n",
       "50%     446.000000    0.000000    3.000000   28.000000    0.000000   \n",
       "75%     668.500000    1.000000    3.000000   38.000000    1.000000   \n",
       "max     891.000000    1.000000    3.000000   80.000000    8.000000   \n",
       "\n",
       "            Parch        Fare  \n",
       "count  891.000000  891.000000  \n",
       "mean     0.381594   32.204208  \n",
       "std      0.806057   49.693429  \n",
       "min      0.000000    0.000000  \n",
       "25%      0.000000    7.910400  \n",
       "50%      0.000000   14.454200  \n",
       "75%      0.000000   31.000000  \n",
       "max      6.000000  512.329200  "
      ]
     },
     "execution_count": 4,
     "metadata": {},
     "output_type": "execute_result"
    }
   ],
   "source": [
    "train.describe()"
   ]
  },
  {
   "cell_type": "markdown",
   "metadata": {},
   "source": [
    "I will start by focusing on the sex of the passengers by mapping the text values in the sex column to a numerical value.\n",
    "I'll also add a column called Passenger Sex that is not mapped to a value, this column will be used for easier viewing of a plot legend."
   ]
  },
  {
   "cell_type": "code",
   "execution_count": 5,
   "metadata": {},
   "outputs": [],
   "source": [
    "train['Passenger Sex']=train['Sex']"
   ]
  },
  {
   "cell_type": "code",
   "execution_count": 6,
   "metadata": {},
   "outputs": [],
   "source": [
    "train['Sex']=train['Sex'].map({'male':0, 'female': 1})\n",
    "#print(train)"
   ]
  },
  {
   "cell_type": "markdown",
   "metadata": {},
   "source": [
    "Below I will plot a chart showing survival by passenger sex. "
   ]
  },
  {
   "cell_type": "code",
   "execution_count": 7,
   "metadata": {},
   "outputs": [
    {
     "name": "stdout",
     "output_type": "stream",
     "text": [
      "\u001b[1m\u001b[34m       (percentages are rounded to the nearest whole number)    \u001b[0m\n",
      "   \n",
      "               19.0 % of male passengers survived.\n",
      "               74.0 % of female passengers survived.\n",
      "  \n"
     ]
    },
    {
     "data": {
      "image/png": "[encoded data removed]",
      "text/plain": [
       "<Figure size 576x432 with 1 Axes>"
      ]
     },
     "metadata": {
      "needs_background": "light"
     },
     "output_type": "display_data"
    }
   ],
   "source": [
    "f, ax = plt.subplots(figsize=(8, 6))\n",
    "sns.barplot(x=\"Passenger Sex\", y=\"Survived\", data=train)\n",
    "plt.title(\"Titanic passenger survival by sex\")\n",
    "\n",
    "print(colored('       (percentages are rounded to the nearest whole number)    ', 'blue', attrs=['bold']))\n",
    "#print(\"        (percentages are rounded to the nearest whole number)    \")\n",
    "print(\"   \")\n",
    "\n",
    "male_passengers= train[\"Survived\"][train[\"Sex\"]== 0].value_counts(normalize =True)[1]*100\n",
    "print(\"              \",male_passengers.round(decimals=0),\"% of male passengers survived.\")\n",
    "\n",
    "\n",
    "female_passengers = train[\"Survived\"][train[\"Sex\"]== 1].value_counts(normalize =True)[1]*100\n",
    "print(\"              \",female_passengers.round(decimals=0),\"% of female passengers survived.\")\n",
    "print(\"  \")\n",
    "##################"
   ]
  },
  {
   "cell_type": "code",
   "execution_count": 8,
   "metadata": {},
   "outputs": [],
   "source": [
    "train['Passenger Class']=train['Pclass'].map({1:'first', 2:'second', 3:'third'})"
   ]
  },
  {
   "cell_type": "code",
   "execution_count": 9,
   "metadata": {},
   "outputs": [
    {
     "data": {
      "text/html": [
       "<div>\n",
       "<style scoped>\n",
       "    .dataframe tbody tr th:only-of-type {\n",
       "        vertical-align: middle;\n",
       "    }\n",
       "\n",
       "    .dataframe tbody tr th {\n",
       "        vertical-align: top;\n",
       "    }\n",
       "\n",
       "    .dataframe thead th {\n",
       "        text-align: right;\n",
       "    }\n",
       "</style>\n",
       "<table border=\"1\" class=\"dataframe\">\n",
       "  <thead>\n",
       "    <tr style=\"text-align: right;\">\n",
       "      <th></th>\n",
       "      <th></th>\n",
       "      <th>PassengerId</th>\n",
       "      <th>Survived</th>\n",
       "      <th>Pclass</th>\n",
       "      <th>Sex</th>\n",
       "      <th>Age</th>\n",
       "      <th>SibSp</th>\n",
       "      <th>Parch</th>\n",
       "      <th>Fare</th>\n",
       "    </tr>\n",
       "    <tr>\n",
       "      <th>Passenger Class</th>\n",
       "      <th>Passenger Sex</th>\n",
       "      <th></th>\n",
       "      <th></th>\n",
       "      <th></th>\n",
       "      <th></th>\n",
       "      <th></th>\n",
       "      <th></th>\n",
       "      <th></th>\n",
       "      <th></th>\n",
       "    </tr>\n",
       "  </thead>\n",
       "  <tbody>\n",
       "    <tr>\n",
       "      <th rowspan=\"2\" valign=\"top\">first</th>\n",
       "      <th>female</th>\n",
       "      <td>469.212766</td>\n",
       "      <td>0.968085</td>\n",
       "      <td>1.0</td>\n",
       "      <td>1.0</td>\n",
       "      <td>34.611765</td>\n",
       "      <td>0.553191</td>\n",
       "      <td>0.457447</td>\n",
       "      <td>106.125798</td>\n",
       "    </tr>\n",
       "    <tr>\n",
       "      <th>male</th>\n",
       "      <td>455.729508</td>\n",
       "      <td>0.368852</td>\n",
       "      <td>1.0</td>\n",
       "      <td>0.0</td>\n",
       "      <td>41.281386</td>\n",
       "      <td>0.311475</td>\n",
       "      <td>0.278689</td>\n",
       "      <td>67.226127</td>\n",
       "    </tr>\n",
       "    <tr>\n",
       "      <th rowspan=\"2\" valign=\"top\">second</th>\n",
       "      <th>female</th>\n",
       "      <td>443.105263</td>\n",
       "      <td>0.921053</td>\n",
       "      <td>2.0</td>\n",
       "      <td>1.0</td>\n",
       "      <td>28.722973</td>\n",
       "      <td>0.486842</td>\n",
       "      <td>0.605263</td>\n",
       "      <td>21.970121</td>\n",
       "    </tr>\n",
       "    <tr>\n",
       "      <th>male</th>\n",
       "      <td>447.962963</td>\n",
       "      <td>0.157407</td>\n",
       "      <td>2.0</td>\n",
       "      <td>0.0</td>\n",
       "      <td>30.740707</td>\n",
       "      <td>0.342593</td>\n",
       "      <td>0.222222</td>\n",
       "      <td>19.741782</td>\n",
       "    </tr>\n",
       "    <tr>\n",
       "      <th rowspan=\"2\" valign=\"top\">third</th>\n",
       "      <th>female</th>\n",
       "      <td>399.729167</td>\n",
       "      <td>0.500000</td>\n",
       "      <td>3.0</td>\n",
       "      <td>1.0</td>\n",
       "      <td>21.750000</td>\n",
       "      <td>0.895833</td>\n",
       "      <td>0.798611</td>\n",
       "      <td>16.118810</td>\n",
       "    </tr>\n",
       "    <tr>\n",
       "      <th>male</th>\n",
       "      <td>455.515850</td>\n",
       "      <td>0.135447</td>\n",
       "      <td>3.0</td>\n",
       "      <td>0.0</td>\n",
       "      <td>26.507589</td>\n",
       "      <td>0.498559</td>\n",
       "      <td>0.224784</td>\n",
       "      <td>12.661633</td>\n",
       "    </tr>\n",
       "  </tbody>\n",
       "</table>\n",
       "</div>"
      ],
      "text/plain": [
       "                               PassengerId  Survived  Pclass  Sex        Age  \\\n",
       "Passenger Class Passenger Sex                                                  \n",
       "first           female          469.212766  0.968085     1.0  1.0  34.611765   \n",
       "                male            455.729508  0.368852     1.0  0.0  41.281386   \n",
       "second          female          443.105263  0.921053     2.0  1.0  28.722973   \n",
       "                male            447.962963  0.157407     2.0  0.0  30.740707   \n",
       "third           female          399.729167  0.500000     3.0  1.0  21.750000   \n",
       "                male            455.515850  0.135447     3.0  0.0  26.507589   \n",
       "\n",
       "                                  SibSp     Parch        Fare  \n",
       "Passenger Class Passenger Sex                                  \n",
       "first           female         0.553191  0.457447  106.125798  \n",
       "                male           0.311475  0.278689   67.226127  \n",
       "second          female         0.486842  0.605263   21.970121  \n",
       "                male           0.342593  0.222222   19.741782  \n",
       "third           female         0.895833  0.798611   16.118810  \n",
       "                male           0.498559  0.224784   12.661633  "
      ]
     },
     "execution_count": 9,
     "metadata": {},
     "output_type": "execute_result"
    }
   ],
   "source": [
    "class_sex_grouping = train.groupby(['Passenger Class','Passenger Sex']).mean()\n",
    "class_sex_grouping"
   ]
  },
  {
   "cell_type": "markdown",
   "metadata": {},
   "source": [
    "How did passenger class affect survival? Let's take a look at the chart below."
   ]
  },
  {
   "cell_type": "code",
   "execution_count": 10,
   "metadata": {},
   "outputs": [
    {
     "name": "stdout",
     "output_type": "stream",
     "text": [
      "\u001b[1m\u001b[34m         (percentages are rounded to the nearest whole number)    \u001b[0m\n",
      "  \n",
      "                63.0 % of first class passengers survived.\n",
      "                47.0 % of second class passengers survived.\n",
      "                24.0 % of third class passengers survived.\n",
      "  \n"
     ]
    },
    {
     "data": {
      "image/png": "[encoded data removed]",
      "text/plain": [
       "<Figure size 576x432 with 1 Axes>"
      ]
     },
     "metadata": {
      "needs_background": "light"
     },
     "output_type": "display_data"
    }
   ],
   "source": [
    "f, ax = plt.subplots(figsize=(8, 6))\n",
    "ax = sns.barplot(x=\"Passenger Class\", y=\"Survived\", data=train)\n",
    "plt.title(\"Titanic survivor rates by passenger class\")\n",
    "\n",
    "\n",
    "print(colored('         (percentages are rounded to the nearest whole number)    ', 'blue', attrs=['bold']))\n",
    "print(\"  \")\n",
    "\n",
    "\n",
    "first_class= train[\"Survived\"][train[\"Pclass\"]== 1].value_counts(normalize =True)[1]*100\n",
    "print(\"               \",first_class.round(decimals=0),\"% of first class passengers survived.\")\n",
    "\n",
    "second_class=train[\"Survived\"][train[\"Pclass\"]== 2].value_counts(normalize =True)[1]*100\n",
    "print(\"               \",second_class.round(decimals=0),\"% of second class passengers survived.\")\n",
    "\n",
    "third_class=train[\"Survived\"][train[\"Pclass\"]== 3].value_counts(normalize =True)[1]*100\n",
    "print(\"               \",third_class.round(decimals=0),\"% of third class passengers survived.\")\n",
    "\n",
    "print(\"  \")"
   ]
  },
  {
   "cell_type": "markdown",
   "metadata": {},
   "source": [
    "Here is a chart showing survival broken down by passenger class for males vs females:"
   ]
  },
  {
   "cell_type": "code",
   "execution_count": 11,
   "metadata": {},
   "outputs": [
    {
     "data": {
      "text/plain": [
       "Text(0.5, 1.0, 'Titanic survivors by passenger class & sex')"
      ]
     },
     "execution_count": 11,
     "metadata": {},
     "output_type": "execute_result"
    },
    {
     "data": {
      "image/png": "[encoded data removed]",
      "text/plain": [
       "<Figure size 432x288 with 1 Axes>"
      ]
     },
     "metadata": {
      "needs_background": "light"
     },
     "output_type": "display_data"
    }
   ],
   "source": [
    "class_sex_grouping['Survived'].plot.bar()\n",
    "plt.ylabel('Percentage that Survived')\n",
    "plt.title('Titanic survivors by passenger class & sex')"
   ]
  },
  {
   "cell_type": "markdown",
   "metadata": {},
   "source": [
    "Is there any correlation to the age of passengers and survival? \n",
    "The very youngest group of survivors had the highest survival rate, the oldest group had the lowest survior rate, however it is difficult to see any noticeble patterns for the rest of age groups."
   ]
  },
  {
   "cell_type": "code",
   "execution_count": 12,
   "metadata": {},
   "outputs": [],
   "source": [
    "train['Age'].fillna(inplace=True, value=round(train['Age'].mean()))\n",
    "#print(train)"
   ]
  },
  {
   "cell_type": "code",
   "execution_count": 13,
   "metadata": {},
   "outputs": [
    {
     "data": {
      "text/plain": [
       "Text(0.5, 1.0, 'Titanic survivors by age group (in 10 year increments)')"
      ]
     },
     "execution_count": 13,
     "metadata": {},
     "output_type": "execute_result"
    },
    {
     "data": {
      "image/png": "[encoded data removed]",
      "text/plain": [
       "<Figure size 432x288 with 1 Axes>"
      ]
     },
     "metadata": {
      "needs_background": "light"
     },
     "output_type": "display_data"
    }
   ],
   "source": [
    "group_by_age = pd.cut(train[\"Age\"], np.arange(0, 90, 10))\n",
    "age_grouping = train.groupby(group_by_age).mean()\n",
    "age_grouping['Survived'].plot.bar()\n",
    "plt.ylabel('Percentage that Survived')\n",
    "plt.title('Titanic survivors by age group (in 10 year increments)')"
   ]
  },
  {
   "cell_type": "markdown",
   "metadata": {},
   "source": [
    "Here is another graph that shows it is very difficult to deciper any real correlation strictly between age of passengers and survival."
   ]
  },
  {
   "cell_type": "code",
   "execution_count": 14,
   "metadata": {},
   "outputs": [
    {
     "data": {
      "text/plain": [
       "[<matplotlib.lines.Line2D at 0x1c35f9b8>]"
      ]
     },
     "execution_count": 14,
     "metadata": {},
     "output_type": "execute_result"
    },
    {
     "data": {
      "image/png": "[encoded data removed]",
      "text/plain": [
       "<Figure size 1296x288 with 1 Axes>"
      ]
     },
     "metadata": {
      "needs_background": "light"
     },
     "output_type": "display_data"
    }
   ],
   "source": [
    "fig, axis1 = plt.subplots(1,1,figsize=(18,4))\n",
    "average_age = train[[\"Age\", \"Survived\"]].groupby(['Age'],as_index=False).mean()\n",
    "x='Age'\n",
    "y='Survived'\n",
    "plt.xlabel('Age')\n",
    "plt.ylabel('Survived')\n",
    "plt.title('Titanic Survivers by Age')\n",
    "plt.plot(x,y, data=average_age)"
   ]
  },
  {
   "cell_type": "markdown",
   "metadata": {},
   "source": [
    "It's time to start building a model to make predictions on survival.\n",
    "I will look at Sex, passenger class and age as the features to predict survival.\n",
    "First, I'll start with mapping each passenger class to a numerical value."
   ]
  },
  {
   "cell_type": "code",
   "execution_count": 15,
   "metadata": {},
   "outputs": [],
   "source": [
    "train['FirstClass']=train['Pclass'].apply(lambda p: 1 if p ==1 else 0)\n",
    "#print(train) ##now only FirstClass passengers have a 1 in their column."
   ]
  },
  {
   "cell_type": "code",
   "execution_count": 16,
   "metadata": {},
   "outputs": [],
   "source": [
    "train['SecondClass']=train['Pclass'].apply(lambda p: 1 if p ==2 else 0)"
   ]
  },
  {
   "cell_type": "code",
   "execution_count": 17,
   "metadata": {},
   "outputs": [],
   "source": [
    "train['ThirdClass']=train['Pclass'].apply(lambda p: 1 if p ==3 else 0)"
   ]
  },
  {
   "cell_type": "code",
   "execution_count": 18,
   "metadata": {},
   "outputs": [],
   "source": [
    "features=train[['Sex', 'Age', 'FirstClass', 'SecondClass', 'ThirdClass']]\n",
    "survived=train['Survived']"
   ]
  },
  {
   "cell_type": "markdown",
   "metadata": {},
   "source": [
    "The data files are split into a training data set and a test data set.\n",
    "I'll use the training set to train the model and the test set to evaluate the model.\n",
    "I am going to use a logistic regression model to make my predictions on Titanic survival.\n",
    "I will first need to scale the feature data by creating a standard scaler object."
   ]
  },
  {
   "cell_type": "code",
   "execution_count": 19,
   "metadata": {},
   "outputs": [],
   "source": [
    "train_features, test_features, train_labels, test_labels = train_test_split(features, survived)"
   ]
  },
  {
   "cell_type": "code",
   "execution_count": 20,
   "metadata": {},
   "outputs": [],
   "source": [
    "scaler=StandardScaler()\n",
    "train_features = scaler.fit_transform(train_features)\n",
    "\n",
    "test_features = scaler.transform(test_features)"
   ]
  },
  {
   "cell_type": "markdown",
   "metadata": {},
   "source": [
    "Next I will fit the model that will perform gradiet descent to find the feature coefficients that minimize the log-loss for the training data.\n",
    "This will train the model to recognize which type of passengers survived and which type of passengers didn't survive based on the features (Sex, Age, FirstClass, SecondClass and ThirdClass)."
   ]
  },
  {
   "cell_type": "code",
   "execution_count": 21,
   "metadata": {},
   "outputs": [
    {
     "data": {
      "text/plain": [
       "LogisticRegression()"
      ]
     },
     "execution_count": 21,
     "metadata": {},
     "output_type": "execute_result"
    }
   ],
   "source": [
    "model = LogisticRegression()\n",
    "model.fit(train_features, train_labels)"
   ]
  },
  {
   "cell_type": "markdown",
   "metadata": {},
   "source": [
    "Scoring the model on the training data will run the data through the model and make final classifications on survival for each passenger in the training set.\n",
    "The score returned is the percentage of correct classifications, or the accuracy."
   ]
  },
  {
   "cell_type": "code",
   "execution_count": 22,
   "metadata": {},
   "outputs": [
    {
     "name": "stdout",
     "output_type": "stream",
     "text": [
      "0.7964071856287425\n"
     ]
    }
   ],
   "source": [
    "print(model.score(train_features, train_labels))  ##result: about an 80% accuracy rate"
   ]
  },
  {
   "cell_type": "markdown",
   "metadata": {},
   "source": [
    "Smilarly, scoring the model on the testing data will run the data through the model and make final classifications on survival for each passenger in the test set."
   ]
  },
  {
   "cell_type": "code",
   "execution_count": 23,
   "metadata": {},
   "outputs": [
    {
     "name": "stdout",
     "output_type": "stream",
     "text": [
      "0.8071748878923767\n"
     ]
    }
   ],
   "source": [
    "print(model.score(test_features, test_labels))  #result is almost the same as the train score"
   ]
  },
  {
   "cell_type": "markdown",
   "metadata": {},
   "source": [
    "Wow, a score of about 80% for both the training and test data, pretty good results! \n",
    "Now I will print the model coefficients to determine the significance of each coefficient feature in determining if someone survived.\n",
    "The order of the feature coefficients are Sex, Age, FirstClass, SecondClass and ThirdClass. \n",
    "After viewing the results below, it appears that Sex and FirstClass status provides the most significant predictors of survival from our feature data as seen below."
   ]
  },
  {
   "cell_type": "code",
   "execution_count": 24,
   "metadata": {},
   "outputs": [
    {
     "name": "stdout",
     "output_type": "stream",
     "text": [
      "[[ 1.24555704 -0.46644311  0.56209833  0.05740782 -0.527441  ]]\n"
     ]
    }
   ],
   "source": [
    "print(model.coef_)  #the printed array results are in this order: Sex, Age, FirstClass, SecondClass, ThirdClass. "
   ]
  },
  {
   "cell_type": "markdown",
   "metadata": {},
   "source": [
    "Now I will use our model to make predictions on the survival of a few pretend passengers. I have stored these passengers in NumPy arrays. The arrays store 4 feature values, in the following order:\n",
    "Sex, represented by a 0 for male and 1 for female\n",
    "Age, represented as an integer in years\n",
    "Class, with a 1.0 indicating which class the passenger is in (in order of First, Second, Third)."
   ]
  },
  {
   "cell_type": "code",
   "execution_count": 25,
   "metadata": {},
   "outputs": [],
   "source": [
    "Mark= np.array([0.0,25.0,0.0,1.0,0.0])\n",
    "Mary= np.array([1.0,19.0,1.0,0.0,0.0])\n",
    "Bob= np.array([0.0,47.0,0.0,0.0,1.0])"
   ]
  },
  {
   "cell_type": "markdown",
   "metadata": {},
   "source": [
    "Mark is: Male, 25 years old, Second Class passenger.\n",
    "Mary is: Female, 19 years old, First Class passenger.\n",
    "Bob is a male, 47 year old, Third Class passenger.\n",
    "\n",
    "Next I will combine these passengers into a single NumPy array, sample_passengers"
   ]
  },
  {
   "cell_type": "code",
   "execution_count": 26,
   "metadata": {},
   "outputs": [],
   "source": [
    "sample_passengers=np.array([Mark, Mary, Bob])"
   ]
  },
  {
   "cell_type": "markdown",
   "metadata": {},
   "source": [
    "Once again, I will scale the feature data that I am making predictions on."
   ]
  },
  {
   "cell_type": "code",
   "execution_count": 27,
   "metadata": {},
   "outputs": [],
   "source": [
    "sample_passengers=scaler.transform(sample_passengers) ##normalize"
   ]
  },
  {
   "cell_type": "markdown",
   "metadata": {},
   "source": [
    "So, let's look at some predictions from our sample passenger group.\n",
    "The first row is the prediction probability, (0 for dying, 1 for survived). Then, the columns represent the probability of a passenger dying on the Titanic, and the 2nd column is the probability of a passenger surviving the sinking. "
   ]
  },
  {
   "cell_type": "code",
   "execution_count": 28,
   "metadata": {},
   "outputs": [
    {
     "name": "stdout",
     "output_type": "stream",
     "text": [
      "So, who is most likely to survive from this group of sample passengers? Let's see the models's prediction. (0= died, 1=survived)\n",
      "[0 1 0]\n",
      " \n",
      "Next, let's see the probabilities that led to these predictions by calling the .predict_proba() method.\n",
      "The 1st column is the probability of a passenger dying on the Titanic, and the 2nd column is the probability of a passenger surviving the sinking.\n",
      " \n",
      "The order is Mark, Mary, Bob.\n",
      " \n",
      "[[0.74094479 0.25905521]\n",
      " [0.04986166 0.95013834]\n",
      " [0.95394404 0.04605596]]\n"
     ]
    }
   ],
   "source": [
    "print(\"So, who is most likely to survive from this group of sample passengers? Let's see the models's prediction. (0= died, 1=survived)\")\n",
    "print(\"The order is Mark, mary, Bob.\")\n",
    "print(model.predict(sample_passengers))\n",
    "print(\" \")\n",
    "print(\"Next, let's see the probabilities that led to these predictions by calling the .predict_proba() method.\")\n",
    "print(\"The 1st column is the probability of a passenger dying on the Titanic, and the 2nd column is the probability of a passenger surviving the sinking.\")\n",
    "print(\" \")\n",
    "print(\"Once again the order is Mark, Mary, Bob.\")\n",
    "print(\" \")\n",
    "print(model.predict_proba(sample_passengers))"
   ]
  },
  {
   "cell_type": "markdown",
   "metadata": {},
   "source": [
    "Mark had an over 70% chance of dying and an 25% chance of surviving.\n",
    "Mary had a very small chance of dying and an over 90% chance of surviving.\n",
    "Bob had an over 90% chance of dying, yikes!"
   ]
  },
  {
   "cell_type": "markdown",
   "metadata": {},
   "source": [
    "Now I will take a look at Titanic survivors by number of family members."
   ]
  },
  {
   "cell_type": "code",
   "execution_count": 29,
   "metadata": {},
   "outputs": [
    {
     "name": "stdout",
     "output_type": "stream",
     "text": [
      "\u001b[1m\u001b[34m         (percentages are rounded to the nearest whole number)    \u001b[0m\n",
      " \n",
      "54.0 % of passengers with one parent and/or child aboard survived.\n",
      "46.0 % of passengers with two parents and/or children aboard survived.\n",
      "35.0 % of passengers with no parents and/or children aboard survived.\n",
      "25.0 % of passengers with three parents and/or children aboard survived.\n",
      "17.0 % of passengers with four parents and/or children survived.\n",
      "  \n"
     ]
    },
    {
     "data": {
      "image/png": "[encoded data removed]",
      "text/plain": [
       "<Figure size 576x432 with 1 Axes>"
      ]
     },
     "metadata": {
      "needs_background": "light"
     },
     "output_type": "display_data"
    }
   ],
   "source": [
    "f, ax = plt.subplots(figsize=(8, 6))\n",
    "ax =sns.barplot(x=\"SibSp\", y=\"Survived\", data=train)\n",
    "plt.title(\"Titanic survivors by number of family members (SibSp)\")\n",
    "\n",
    "\n",
    "print(colored('         (percentages are rounded to the nearest whole number)    ', 'blue', attrs=['bold']))\n",
    "print(\" \")\n",
    "survived_one=train[\"Survived\"][train[\"SibSp\"] ==1].value_counts(normalize = True)[1]*100\n",
    "print(survived_one.round(decimals=0),\"% of passengers with one parent and/or child aboard survived.\")\n",
    "\n",
    "\n",
    "survived_two=train[\"Survived\"][train[\"SibSp\"] ==2].value_counts(normalize = True) [1]*100\n",
    "print(survived_two.round(decimals=0),\"% of passengers with two parents and/or children aboard survived.\")\n",
    "\n",
    "survived_zero=train[\"Survived\"][train[\"SibSp\"] ==0].value_counts(normalize = True)[1]*100\n",
    "print(survived_zero.round(decimals=0),\"% of passengers with no parents and/or children aboard survived.\")\n",
    "\n",
    "survived_three=train[\"Survived\"][train[\"SibSp\"] ==3].value_counts(normalize = True)[1]*100\n",
    "print(survived_three.round(decimals=0),\"% of passengers with three parents and/or children aboard survived.\")\n",
    "\n",
    "survived_four=train[\"Survived\"][train[\"SibSp\"] ==4].value_counts(normalize = True)[1]*100\n",
    "print(survived_four.round(decimals=0),\"% of passengers with four parents and/or children survived.\")\n",
    "\n",
    "print(\"  \")\n",
    "\n"
   ]
  },
  {
   "cell_type": "code",
   "execution_count": 30,
   "metadata": {},
   "outputs": [
    {
     "name": "stdout",
     "output_type": "stream",
     "text": [
      "\u001b[1m\u001b[34m                 Titanic Survivors with and without family members\u001b[0m\n"
     ]
    },
    {
     "data": {
      "text/plain": [
       "[Text(0, 0, 'With Family'), Text(1, 0, 'Alone')]"
      ]
     },
     "execution_count": 30,
     "metadata": {},
     "output_type": "execute_result"
    },
    {
     "data": {
      "image/png": "[encoded data removed]",
      "text/plain": [
       "<Figure size 720x360 with 2 Axes>"
      ]
     },
     "metadata": {
      "needs_background": "light"
     },
     "output_type": "display_data"
    }
   ],
   "source": [
    "print(colored('                 Titanic Survivors with and without family members'   , 'blue', attrs=['bold']))\n",
    "#print('               Titanic Survivors with and without family members')\n",
    "\n",
    "train['Family Status'] =  train[\"Parch\"] + train[\"SibSp\"]\n",
    "train['Family Status'].loc[train['Family Status'] > 0] = 1\n",
    "train['Family Status'].loc[train['Family Status'] == 0] = 0\n",
    "\n",
    "train['Family Status'] =  train[\"Parch\"] + train[\"SibSp\"]\n",
    "train['Family Status'].loc[train['Family Status'] > 0] = 1\n",
    "train['Family Status'].loc[train['Family Status'] == 0] = 0\n",
    "\n",
    "# drop Parch & SibSp\n",
    "train    = train.drop(['SibSp','Parch'], axis=1)\n",
    "\n",
    "# plot\n",
    "fig, (axis1,axis2) = plt.subplots(1,2,sharex=True,figsize=(10,5))\n",
    "\n",
    "# sns.factorplot('Family',data=titanic_df,kind='count',ax=axis1)\n",
    "sns.countplot(x='Family Status', data=train, order=[1,0], ax=axis1)\n",
    "\n",
    "\n",
    "# average of survived for those who had/didn't have any family member\n",
    "family_situation = train[[\"Family Status\", \"Survived\"]].groupby(['Family Status'],as_index=False).mean()\n",
    "sns.barplot(x='Family Status', y='Survived', data=family_situation, order=[1,0], ax=axis2)\n",
    "\n",
    "axis1.set_xticklabels([\"With Family\",\"Alone\"], rotation=0)"
   ]
  },
  {
   "cell_type": "markdown",
   "metadata": {},
   "source": [
    "The charts show that passengers with one or two family members had the greatest survial rate.\n",
    "Overall, the number of passengers who were alone were significantly higher than those with family members, and passengers who were alone had a much lower survival rate. "
   ]
  },
  {
   "cell_type": "markdown",
   "metadata": {},
   "source": [
    "Here is an interesting question, what are the most common last names from the Titanic passengers? "
   ]
  },
  {
   "cell_type": "code",
   "execution_count": 31,
   "metadata": {},
   "outputs": [
    {
     "data": {
      "text/html": [
       "<div>\n",
       "<style scoped>\n",
       "    .dataframe tbody tr th:only-of-type {\n",
       "        vertical-align: middle;\n",
       "    }\n",
       "\n",
       "    .dataframe tbody tr th {\n",
       "        vertical-align: top;\n",
       "    }\n",
       "\n",
       "    .dataframe thead th {\n",
       "        text-align: right;\n",
       "    }\n",
       "</style>\n",
       "<table border=\"1\" class=\"dataframe\">\n",
       "  <thead>\n",
       "    <tr style=\"text-align: right;\">\n",
       "      <th></th>\n",
       "      <th>PassengerId</th>\n",
       "      <th>Survived</th>\n",
       "      <th>Pclass</th>\n",
       "      <th>Name</th>\n",
       "      <th>Sex</th>\n",
       "      <th>Age</th>\n",
       "      <th>Ticket</th>\n",
       "      <th>Fare</th>\n",
       "      <th>Cabin</th>\n",
       "      <th>Embarked</th>\n",
       "      <th>Passenger Sex</th>\n",
       "      <th>Passenger Class</th>\n",
       "      <th>FirstClass</th>\n",
       "      <th>SecondClass</th>\n",
       "      <th>ThirdClass</th>\n",
       "      <th>Family Status</th>\n",
       "      <th>Last_Name</th>\n",
       "      <th>First_Name</th>\n",
       "    </tr>\n",
       "  </thead>\n",
       "  <tbody>\n",
       "    <tr>\n",
       "      <th>0</th>\n",
       "      <td>1</td>\n",
       "      <td>0</td>\n",
       "      <td>3</td>\n",
       "      <td>Braund, Mr. Owen Harris</td>\n",
       "      <td>0</td>\n",
       "      <td>22.0</td>\n",
       "      <td>A/5 21171</td>\n",
       "      <td>7.2500</td>\n",
       "      <td>NaN</td>\n",
       "      <td>S</td>\n",
       "      <td>male</td>\n",
       "      <td>third</td>\n",
       "      <td>0</td>\n",
       "      <td>0</td>\n",
       "      <td>1</td>\n",
       "      <td>1</td>\n",
       "      <td>Braund</td>\n",
       "      <td>Mr. Owen Harris</td>\n",
       "    </tr>\n",
       "    <tr>\n",
       "      <th>1</th>\n",
       "      <td>2</td>\n",
       "      <td>1</td>\n",
       "      <td>1</td>\n",
       "      <td>Cumings, Mrs. John Bradley (Florence Briggs Th...</td>\n",
       "      <td>1</td>\n",
       "      <td>38.0</td>\n",
       "      <td>PC 17599</td>\n",
       "      <td>71.2833</td>\n",
       "      <td>C85</td>\n",
       "      <td>C</td>\n",
       "      <td>female</td>\n",
       "      <td>first</td>\n",
       "      <td>1</td>\n",
       "      <td>0</td>\n",
       "      <td>0</td>\n",
       "      <td>1</td>\n",
       "      <td>Cumings</td>\n",
       "      <td>Mrs. John Bradley (Florence Briggs Thayer)</td>\n",
       "    </tr>\n",
       "    <tr>\n",
       "      <th>2</th>\n",
       "      <td>3</td>\n",
       "      <td>1</td>\n",
       "      <td>3</td>\n",
       "      <td>Heikkinen, Miss. Laina</td>\n",
       "      <td>1</td>\n",
       "      <td>26.0</td>\n",
       "      <td>STON/O2. 3101282</td>\n",
       "      <td>7.9250</td>\n",
       "      <td>NaN</td>\n",
       "      <td>S</td>\n",
       "      <td>female</td>\n",
       "      <td>third</td>\n",
       "      <td>0</td>\n",
       "      <td>0</td>\n",
       "      <td>1</td>\n",
       "      <td>0</td>\n",
       "      <td>Heikkinen</td>\n",
       "      <td>Miss. Laina</td>\n",
       "    </tr>\n",
       "    <tr>\n",
       "      <th>3</th>\n",
       "      <td>4</td>\n",
       "      <td>1</td>\n",
       "      <td>1</td>\n",
       "      <td>Futrelle, Mrs. Jacques Heath (Lily May Peel)</td>\n",
       "      <td>1</td>\n",
       "      <td>35.0</td>\n",
       "      <td>113803</td>\n",
       "      <td>53.1000</td>\n",
       "      <td>C123</td>\n",
       "      <td>S</td>\n",
       "      <td>female</td>\n",
       "      <td>first</td>\n",
       "      <td>1</td>\n",
       "      <td>0</td>\n",
       "      <td>0</td>\n",
       "      <td>1</td>\n",
       "      <td>Futrelle</td>\n",
       "      <td>Mrs. Jacques Heath (Lily May Peel)</td>\n",
       "    </tr>\n",
       "    <tr>\n",
       "      <th>4</th>\n",
       "      <td>5</td>\n",
       "      <td>0</td>\n",
       "      <td>3</td>\n",
       "      <td>Allen, Mr. William Henry</td>\n",
       "      <td>0</td>\n",
       "      <td>35.0</td>\n",
       "      <td>373450</td>\n",
       "      <td>8.0500</td>\n",
       "      <td>NaN</td>\n",
       "      <td>S</td>\n",
       "      <td>male</td>\n",
       "      <td>third</td>\n",
       "      <td>0</td>\n",
       "      <td>0</td>\n",
       "      <td>1</td>\n",
       "      <td>0</td>\n",
       "      <td>Allen</td>\n",
       "      <td>Mr. William Henry</td>\n",
       "    </tr>\n",
       "    <tr>\n",
       "      <th>...</th>\n",
       "      <td>...</td>\n",
       "      <td>...</td>\n",
       "      <td>...</td>\n",
       "      <td>...</td>\n",
       "      <td>...</td>\n",
       "      <td>...</td>\n",
       "      <td>...</td>\n",
       "      <td>...</td>\n",
       "      <td>...</td>\n",
       "      <td>...</td>\n",
       "      <td>...</td>\n",
       "      <td>...</td>\n",
       "      <td>...</td>\n",
       "      <td>...</td>\n",
       "      <td>...</td>\n",
       "      <td>...</td>\n",
       "      <td>...</td>\n",
       "      <td>...</td>\n",
       "    </tr>\n",
       "    <tr>\n",
       "      <th>886</th>\n",
       "      <td>887</td>\n",
       "      <td>0</td>\n",
       "      <td>2</td>\n",
       "      <td>Montvila, Rev. Juozas</td>\n",
       "      <td>0</td>\n",
       "      <td>27.0</td>\n",
       "      <td>211536</td>\n",
       "      <td>13.0000</td>\n",
       "      <td>NaN</td>\n",
       "      <td>S</td>\n",
       "      <td>male</td>\n",
       "      <td>second</td>\n",
       "      <td>0</td>\n",
       "      <td>1</td>\n",
       "      <td>0</td>\n",
       "      <td>0</td>\n",
       "      <td>Montvila</td>\n",
       "      <td>Rev. Juozas</td>\n",
       "    </tr>\n",
       "    <tr>\n",
       "      <th>887</th>\n",
       "      <td>888</td>\n",
       "      <td>1</td>\n",
       "      <td>1</td>\n",
       "      <td>Graham, Miss. Margaret Edith</td>\n",
       "      <td>1</td>\n",
       "      <td>19.0</td>\n",
       "      <td>112053</td>\n",
       "      <td>30.0000</td>\n",
       "      <td>B42</td>\n",
       "      <td>S</td>\n",
       "      <td>female</td>\n",
       "      <td>first</td>\n",
       "      <td>1</td>\n",
       "      <td>0</td>\n",
       "      <td>0</td>\n",
       "      <td>0</td>\n",
       "      <td>Graham</td>\n",
       "      <td>Miss. Margaret Edith</td>\n",
       "    </tr>\n",
       "    <tr>\n",
       "      <th>888</th>\n",
       "      <td>889</td>\n",
       "      <td>0</td>\n",
       "      <td>3</td>\n",
       "      <td>Johnston, Miss. Catherine Helen \"Carrie\"</td>\n",
       "      <td>1</td>\n",
       "      <td>30.0</td>\n",
       "      <td>W./C. 6607</td>\n",
       "      <td>23.4500</td>\n",
       "      <td>NaN</td>\n",
       "      <td>S</td>\n",
       "      <td>female</td>\n",
       "      <td>third</td>\n",
       "      <td>0</td>\n",
       "      <td>0</td>\n",
       "      <td>1</td>\n",
       "      <td>1</td>\n",
       "      <td>Johnston</td>\n",
       "      <td>Miss. Catherine Helen \"Carrie\"</td>\n",
       "    </tr>\n",
       "    <tr>\n",
       "      <th>889</th>\n",
       "      <td>890</td>\n",
       "      <td>1</td>\n",
       "      <td>1</td>\n",
       "      <td>Behr, Mr. Karl Howell</td>\n",
       "      <td>0</td>\n",
       "      <td>26.0</td>\n",
       "      <td>111369</td>\n",
       "      <td>30.0000</td>\n",
       "      <td>C148</td>\n",
       "      <td>C</td>\n",
       "      <td>male</td>\n",
       "      <td>first</td>\n",
       "      <td>1</td>\n",
       "      <td>0</td>\n",
       "      <td>0</td>\n",
       "      <td>0</td>\n",
       "      <td>Behr</td>\n",
       "      <td>Mr. Karl Howell</td>\n",
       "    </tr>\n",
       "    <tr>\n",
       "      <th>890</th>\n",
       "      <td>891</td>\n",
       "      <td>0</td>\n",
       "      <td>3</td>\n",
       "      <td>Dooley, Mr. Patrick</td>\n",
       "      <td>0</td>\n",
       "      <td>32.0</td>\n",
       "      <td>370376</td>\n",
       "      <td>7.7500</td>\n",
       "      <td>NaN</td>\n",
       "      <td>Q</td>\n",
       "      <td>male</td>\n",
       "      <td>third</td>\n",
       "      <td>0</td>\n",
       "      <td>0</td>\n",
       "      <td>1</td>\n",
       "      <td>0</td>\n",
       "      <td>Dooley</td>\n",
       "      <td>Mr. Patrick</td>\n",
       "    </tr>\n",
       "  </tbody>\n",
       "</table>\n",
       "<p>891 rows × 18 columns</p>\n",
       "</div>"
      ],
      "text/plain": [
       "     PassengerId  Survived  Pclass  \\\n",
       "0              1         0       3   \n",
       "1              2         1       1   \n",
       "2              3         1       3   \n",
       "3              4         1       1   \n",
       "4              5         0       3   \n",
       "..           ...       ...     ...   \n",
       "886          887         0       2   \n",
       "887          888         1       1   \n",
       "888          889         0       3   \n",
       "889          890         1       1   \n",
       "890          891         0       3   \n",
       "\n",
       "                                                  Name  Sex   Age  \\\n",
       "0                              Braund, Mr. Owen Harris    0  22.0   \n",
       "1    Cumings, Mrs. John Bradley (Florence Briggs Th...    1  38.0   \n",
       "2                               Heikkinen, Miss. Laina    1  26.0   \n",
       "3         Futrelle, Mrs. Jacques Heath (Lily May Peel)    1  35.0   \n",
       "4                             Allen, Mr. William Henry    0  35.0   \n",
       "..                                                 ...  ...   ...   \n",
       "886                              Montvila, Rev. Juozas    0  27.0   \n",
       "887                       Graham, Miss. Margaret Edith    1  19.0   \n",
       "888           Johnston, Miss. Catherine Helen \"Carrie\"    1  30.0   \n",
       "889                              Behr, Mr. Karl Howell    0  26.0   \n",
       "890                                Dooley, Mr. Patrick    0  32.0   \n",
       "\n",
       "               Ticket     Fare Cabin Embarked Passenger Sex Passenger Class  \\\n",
       "0           A/5 21171   7.2500   NaN        S          male           third   \n",
       "1            PC 17599  71.2833   C85        C        female           first   \n",
       "2    STON/O2. 3101282   7.9250   NaN        S        female           third   \n",
       "3              113803  53.1000  C123        S        female           first   \n",
       "4              373450   8.0500   NaN        S          male           third   \n",
       "..                ...      ...   ...      ...           ...             ...   \n",
       "886            211536  13.0000   NaN        S          male          second   \n",
       "887            112053  30.0000   B42        S        female           first   \n",
       "888        W./C. 6607  23.4500   NaN        S        female           third   \n",
       "889            111369  30.0000  C148        C          male           first   \n",
       "890            370376   7.7500   NaN        Q          male           third   \n",
       "\n",
       "     FirstClass  SecondClass  ThirdClass  Family Status  Last_Name  \\\n",
       "0             0            0           1              1     Braund   \n",
       "1             1            0           0              1    Cumings   \n",
       "2             0            0           1              0  Heikkinen   \n",
       "3             1            0           0              1   Futrelle   \n",
       "4             0            0           1              0      Allen   \n",
       "..          ...          ...         ...            ...        ...   \n",
       "886           0            1           0              0   Montvila   \n",
       "887           1            0           0              0     Graham   \n",
       "888           0            0           1              1   Johnston   \n",
       "889           1            0           0              0       Behr   \n",
       "890           0            0           1              0     Dooley   \n",
       "\n",
       "                                      First_Name  \n",
       "0                                Mr. Owen Harris  \n",
       "1     Mrs. John Bradley (Florence Briggs Thayer)  \n",
       "2                                    Miss. Laina  \n",
       "3             Mrs. Jacques Heath (Lily May Peel)  \n",
       "4                              Mr. William Henry  \n",
       "..                                           ...  \n",
       "886                                  Rev. Juozas  \n",
       "887                         Miss. Margaret Edith  \n",
       "888               Miss. Catherine Helen \"Carrie\"  \n",
       "889                              Mr. Karl Howell  \n",
       "890                                  Mr. Patrick  \n",
       "\n",
       "[891 rows x 18 columns]"
      ]
     },
     "execution_count": 31,
     "metadata": {},
     "output_type": "execute_result"
    }
   ],
   "source": [
    "train[['Last_Name','First_Name']] = train.Name.str.split(\",\",expand=True,)\n",
    "train"
   ]
  },
  {
   "cell_type": "code",
   "execution_count": 32,
   "metadata": {},
   "outputs": [
    {
     "name": "stdout",
     "output_type": "stream",
     "text": [
      "Andersson    9\n",
      "Sage         7\n",
      "Skoog        6\n",
      "Goodwin      6\n",
      "Carter       6\n",
      "            ..\n",
      "Smiljanic    1\n",
      "Roebling     1\n",
      "Scanlan      1\n",
      "Ekstrom      1\n",
      "Ponesell     1\n",
      "Name: Last_Name, Length: 667, dtype: int64\n"
     ]
    }
   ],
   "source": [
    "print(train['Last_Name'].value_counts())"
   ]
  },
  {
   "cell_type": "code",
   "execution_count": 33,
   "metadata": {},
   "outputs": [],
   "source": [
    "train['most_common_name']=train['Last_Name']=='Andersson'"
   ]
  },
  {
   "cell_type": "markdown",
   "metadata": {},
   "source": [
    "Observations: Andersson was the most common last name. Out of the nine passengers named Andersson, six people had four SibSp (sibling/spouse(s), no doubt some of these passengers were related. All nine passengers were in the third class and only two survived."
   ]
  },
  {
   "cell_type": "code",
   "execution_count": 34,
   "metadata": {},
   "outputs": [
    {
     "name": "stdout",
     "output_type": "stream",
     "text": [
      "     PassengerId  Survived  Pclass  \\\n",
      "13            14         0       3   \n",
      "68            69         1       3   \n",
      "119          120         0       3   \n",
      "146          147         1       3   \n",
      "541          542         0       3   \n",
      "542          543         0       3   \n",
      "610          611         0       3   \n",
      "813          814         0       3   \n",
      "850          851         0       3   \n",
      "\n",
      "                                                  Name  Sex   Age   Ticket  \\\n",
      "13                         Andersson, Mr. Anders Johan    0  39.0   347082   \n",
      "68                     Andersson, Miss. Erna Alexandra    1  17.0  3101281   \n",
      "119                  Andersson, Miss. Ellis Anna Maria    1   2.0   347082   \n",
      "146       Andersson, Mr. August Edvard (\"Wennerstrom\")    0  27.0   350043   \n",
      "541               Andersson, Miss. Ingeborg Constanzia    1   9.0   347082   \n",
      "542                  Andersson, Miss. Sigrid Elisabeth    1  11.0   347082   \n",
      "610  Andersson, Mrs. Anders Johan (Alfrida Konstant...    1  39.0   347082   \n",
      "813                 Andersson, Miss. Ebba Iris Alfrida    1   6.0   347082   \n",
      "850            Andersson, Master. Sigvard Harald Elias    0   4.0   347082   \n",
      "\n",
      "        Fare Cabin Embarked Passenger Sex Passenger Class  FirstClass  \\\n",
      "13   31.2750   NaN        S          male           third           0   \n",
      "68    7.9250   NaN        S        female           third           0   \n",
      "119  31.2750   NaN        S        female           third           0   \n",
      "146   7.7958   NaN        S          male           third           0   \n",
      "541  31.2750   NaN        S        female           third           0   \n",
      "542  31.2750   NaN        S        female           third           0   \n",
      "610  31.2750   NaN        S        female           third           0   \n",
      "813  31.2750   NaN        S        female           third           0   \n",
      "850  31.2750   NaN        S          male           third           0   \n",
      "\n",
      "     SecondClass  ThirdClass  Family Status  Last_Name  \\\n",
      "13             0           1              1  Andersson   \n",
      "68             0           1              1  Andersson   \n",
      "119            0           1              1  Andersson   \n",
      "146            0           1              0  Andersson   \n",
      "541            0           1              1  Andersson   \n",
      "542            0           1              1  Andersson   \n",
      "610            0           1              1  Andersson   \n",
      "813            0           1              1  Andersson   \n",
      "850            0           1              1  Andersson   \n",
      "\n",
      "                                          First_Name  most_common_name  \n",
      "13                                  Mr. Anders Johan              True  \n",
      "68                              Miss. Erna Alexandra              True  \n",
      "119                           Miss. Ellis Anna Maria              True  \n",
      "146                Mr. August Edvard (\"Wennerstrom\")              True  \n",
      "541                        Miss. Ingeborg Constanzia              True  \n",
      "542                           Miss. Sigrid Elisabeth              True  \n",
      "610   Mrs. Anders Johan (Alfrida Konstantia Brogren)              True  \n",
      "813                          Miss. Ebba Iris Alfrida              True  \n",
      "850                     Master. Sigvard Harald Elias              True  \n"
     ]
    }
   ],
   "source": [
    "print(train[train['most_common_name']==True])"
   ]
  },
  {
   "cell_type": "code",
   "execution_count": 35,
   "metadata": {},
   "outputs": [],
   "source": [
    "train['second_most_common_name']=train['Last_Name']=='Sage'"
   ]
  },
  {
   "cell_type": "markdown",
   "metadata": {},
   "source": [
    "Observations: The second most popular last name for passengers was Sage, with a total of seven passengers with that name. Each Sage passenger is listed as having eight SibSp, so no doubt there was some family relations between passengers. All seven passengers were in third class and none survived. Four were male and three were female.\n",
    "\n",
    "What do you think contributed to their demise the most, being in third class cause and sticking together as a family perhaps? "
   ]
  },
  {
   "cell_type": "code",
   "execution_count": 36,
   "metadata": {},
   "outputs": [
    {
     "name": "stdout",
     "output_type": "stream",
     "text": [
      "     PassengerId  Survived  Pclass                               Name  Sex  \\\n",
      "159          160         0       3         Sage, Master. Thomas Henry    0   \n",
      "180          181         0       3       Sage, Miss. Constance Gladys    1   \n",
      "201          202         0       3                Sage, Mr. Frederick    0   \n",
      "324          325         0       3           Sage, Mr. George John Jr    0   \n",
      "792          793         0       3            Sage, Miss. Stella Anna    1   \n",
      "846          847         0       3           Sage, Mr. Douglas Bullen    0   \n",
      "863          864         0       3  Sage, Miss. Dorothy Edith \"Dolly\"    1   \n",
      "\n",
      "      Age    Ticket   Fare Cabin Embarked Passenger Sex Passenger Class  \\\n",
      "159  30.0  CA. 2343  69.55   NaN        S          male           third   \n",
      "180  30.0  CA. 2343  69.55   NaN        S        female           third   \n",
      "201  30.0  CA. 2343  69.55   NaN        S          male           third   \n",
      "324  30.0  CA. 2343  69.55   NaN        S          male           third   \n",
      "792  30.0  CA. 2343  69.55   NaN        S        female           third   \n",
      "846  30.0  CA. 2343  69.55   NaN        S          male           third   \n",
      "863  30.0  CA. 2343  69.55   NaN        S        female           third   \n",
      "\n",
      "     FirstClass  SecondClass  ThirdClass  Family Status Last_Name  \\\n",
      "159           0            0           1              1      Sage   \n",
      "180           0            0           1              1      Sage   \n",
      "201           0            0           1              1      Sage   \n",
      "324           0            0           1              1      Sage   \n",
      "792           0            0           1              1      Sage   \n",
      "846           0            0           1              1      Sage   \n",
      "863           0            0           1              1      Sage   \n",
      "\n",
      "                       First_Name  most_common_name  second_most_common_name  \n",
      "159          Master. Thomas Henry             False                     True  \n",
      "180        Miss. Constance Gladys             False                     True  \n",
      "201                 Mr. Frederick             False                     True  \n",
      "324            Mr. George John Jr             False                     True  \n",
      "792             Miss. Stella Anna             False                     True  \n",
      "846            Mr. Douglas Bullen             False                     True  \n",
      "863   Miss. Dorothy Edith \"Dolly\"             False                     True  \n"
     ]
    }
   ],
   "source": [
    "print(train[train['second_most_common_name']==True])"
   ]
  },
  {
   "cell_type": "markdown",
   "metadata": {},
   "source": [
    "Here is a question, could the last name be a predictor of survival? If there were a passenger with the last name Rockefeller, how would you predict survival for that passenger?"
   ]
  },
  {
   "cell_type": "markdown",
   "metadata": {},
   "source": [
    "There are many more questions and ideas to explore from the Titanic data set. I hope that you found this project interesting! I hope to add more to this project in the future."
   ]
  }
 ],
 "metadata": {
  "kernelspec": {
   "display_name": "Python 3",
   "language": "python",
   "name": "python3"
  },
  "language_info": {
   "codemirror_mode": {
    "name": "ipython",
    "version": 3
   },
   "file_extension": ".py",
   "mimetype": "text/x-python",
   "name": "python",
   "nbconvert_exporter": "python",
   "pygments_lexer": "ipython3",
   "version": "3.8.2"
  }
 },
 "nbformat": 4,
 "nbformat_minor": 4
}
